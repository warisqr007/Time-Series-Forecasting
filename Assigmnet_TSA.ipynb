{
  "nbformat": 4,
  "nbformat_minor": 0,
  "metadata": {
    "colab": {
      "name": "Assigmnet_TSA.ipynb",
      "provenance": [],
      "collapsed_sections": [],
      "include_colab_link": true
    },
    "kernelspec": {
      "name": "python3",
      "display_name": "Python 3"
    },
    "language_info": {
      "name": "python"
    },
    "accelerator": "GPU"
  },
  "cells": [
    {
      "cell_type": "markdown",
      "metadata": {
        "id": "view-in-github",
        "colab_type": "text"
      },
      "source": [
        "<a href=\"https://colab.research.google.com/github/warisqr007/Time-Series-Forecasting/blob/main/Assigmnet_TSA.ipynb\" target=\"_parent\"><img src=\"https://colab.research.google.com/assets/colab-badge.svg\" alt=\"Open In Colab\"/></a>"
      ]
    },
    {
      "cell_type": "code",
      "metadata": {
        "colab": {
          "base_uri": "https://localhost:8080/"
        },
        "id": "pwOpAvwkC0ov",
        "outputId": "3f75ada0-82ed-46b7-805c-bdcf762bfd4e"
      },
      "source": [
        "from google.colab import drive\n",
        "drive.mount('/content/drive') "
      ],
      "execution_count": 1,
      "outputs": [
        {
          "output_type": "stream",
          "name": "stdout",
          "text": [
            "Mounted at /content/drive\n"
          ]
        }
      ]
    },
    {
      "cell_type": "code",
      "metadata": {
        "colab": {
          "base_uri": "https://localhost:8080/"
        },
        "id": "C7Rku6zMDEGk",
        "outputId": "d053919a-a470-4bdc-c569-97402350a593"
      },
      "source": [
        "cd '/content/drive/My Drive/Research/Data/data_csvs'"
      ],
      "execution_count": 2,
      "outputs": [
        {
          "output_type": "stream",
          "name": "stdout",
          "text": [
            "/content/drive/My Drive/Research/Data/data_csvs\n"
          ]
        }
      ]
    },
    {
      "cell_type": "code",
      "metadata": {
        "colab": {
          "base_uri": "https://localhost:8080/"
        },
        "id": "ltT7y_p8DW9m",
        "outputId": "e2767cb5-eab4-48f4-e348-727e533880db"
      },
      "source": [
        "ls"
      ],
      "execution_count": 3,
      "outputs": [
        {
          "output_type": "stream",
          "name": "stdout",
          "text": [
            "100.csv  112.csv  21.csv  33.csv  45.csv  57.csv  69.csv  80.csv  92.csv\n",
            "101.csv  113.csv  22.csv  34.csv  46.csv  58.csv  6.csv   81.csv  93.csv\n",
            "102.csv  11.csv   23.csv  35.csv  47.csv  59.csv  70.csv  82.csv  94.csv\n",
            "103.csv  12.csv   24.csv  36.csv  48.csv  5.csv   71.csv  83.csv  95.csv\n",
            "104.csv  13.csv   25.csv  37.csv  49.csv  60.csv  72.csv  84.csv  96.csv\n",
            "105.csv  14.csv   26.csv  38.csv  4.csv   61.csv  73.csv  85.csv  97.csv\n",
            "106.csv  15.csv   27.csv  39.csv  50.csv  62.csv  74.csv  86.csv  98.csv\n",
            "107.csv  16.csv   28.csv  3.csv   51.csv  63.csv  75.csv  87.csv  99.csv\n",
            "108.csv  17.csv   29.csv  40.csv  52.csv  64.csv  76.csv  88.csv  9.csv\n",
            "109.csv  18.csv   2.csv   41.csv  53.csv  65.csv  77.csv  89.csv\n",
            "10.csv   19.csv   30.csv  42.csv  54.csv  66.csv  78.csv  8.csv\n",
            "110.csv  1.csv    31.csv  43.csv  55.csv  67.csv  79.csv  90.csv\n",
            "111.csv  20.csv   32.csv  44.csv  56.csv  68.csv  7.csv   91.csv\n"
          ]
        }
      ]
    },
    {
      "cell_type": "code",
      "metadata": {
        "id": "18UzAlKIrTnP"
      },
      "source": [
        "import os\n",
        "import pandas as pd\n",
        "from matplotlib import pyplot as plt\n",
        "import numpy as np\n",
        "\n",
        "path, dirs, files = next(os.walk(\"./\"))\n",
        "file_count = len(files)\n",
        "dataframes_list = []\n",
        "  \n",
        "for i in range(file_count):\n",
        "    temp_df = pd.read_csv(\"./\"+files[i], na_values = ['High', 'Low'])\n",
        "    dataframes_list.append(temp_df)\n",
        "      "
      ],
      "execution_count": 4,
      "outputs": []
    },
    {
      "cell_type": "code",
      "metadata": {
        "colab": {
          "base_uri": "https://localhost:8080/"
        },
        "id": "EuwWjHE7tcwR",
        "outputId": "5a7e6148-27ba-42d3-daed-3a8c8767b6a5"
      },
      "source": [
        "len(dataframes_list)"
      ],
      "execution_count": 5,
      "outputs": [
        {
          "output_type": "execute_result",
          "data": {
            "text/plain": [
              "113"
            ]
          },
          "metadata": {},
          "execution_count": 5
        }
      ]
    },
    {
      "cell_type": "markdown",
      "metadata": {
        "id": "5h-bwSRWYBF5"
      },
      "source": [
        "# **Data-Preprocessing**\n",
        "\n",
        "The time series sensor data were preprocessed and converted to as to be used for supervised learning. Each training/test example were represented by 48 datapoints corresponding to 4 hours of sensor data, and output label represented by 7 datapoints, where t54 represents the label to be predicted.\n",
        "\n",
        "The rows containing null/empty value or values like 'High','Low' were dropped from training and test set.\n",
        "\n",
        "The training set was formed by randoming selecting 80% of the sensors and forming the dataset from them. Rest of the sensors data formed the test set."
      ]
    },
    {
      "cell_type": "code",
      "metadata": {
        "colab": {
          "base_uri": "https://localhost:8080/"
        },
        "id": "KWw0v9GewmfN",
        "outputId": "dbb5f43c-3fca-439d-9e4e-2e2b987ac911"
      },
      "source": [
        "a = np.arange(113)\n",
        "\n",
        "selectedTrainSet = np.random.choice(a, size=90, replace=False)\n",
        "\n",
        "selectedTrainSet"
      ],
      "execution_count": 7,
      "outputs": [
        {
          "output_type": "execute_result",
          "data": {
            "text/plain": [
              "array([  1,  66,  24, 107,  64,  99,  90,  29,  17, 105, 103,  47, 112,\n",
              "        50,  43,  80,  20,  37,   8,  72,  82,  12,  40,  26,  97,  76,\n",
              "        53,  57, 109,  54,  85,  13,  30,  60,  33,   0, 104,  96,  49,\n",
              "        41,  32,   7,  91,  15,  22, 108, 110,  59, 102,  78,  95,  42,\n",
              "        73,  14,  89,  83,  94,  77,  35,  23,  52,  16,  87,   9,  75,\n",
              "        81,  56,  61,  25,  39,  70,  21,  45,   3,  31,   2,  34,  74,\n",
              "        92,  19,  69,  28,  11,   5,  63,  65,  84,  48,  18,  58])"
            ]
          },
          "metadata": {},
          "execution_count": 7
        }
      ]
    },
    {
      "cell_type": "code",
      "metadata": {
        "id": "P_wgwRGBzHnF"
      },
      "source": [
        "trainSetDataFrames = []\n",
        "testSetDataFrames = []\n",
        "\n",
        "for i in range(113):\n",
        "  df=dataframes_list[i]\n",
        "  timeSeriesToSupervised = pd.DataFrame()\n",
        "  timeSeriesToSupervised['t'] = df.iloc[:,0].tolist()\n",
        "  for j in range(54):\n",
        "    timeSeriesToSupervised['t'+str(j+1)] = timeSeriesToSupervised['t'].shift(-(j+1));\n",
        "  \n",
        "  timeSeriesToSupervised.dropna(inplace=True)\n",
        "\n",
        "  if i in selectedTrainSet:\n",
        "    trainSetDataFrames.append(timeSeriesToSupervised)\n",
        "  else:\n",
        "    testSetDataFrames.append(timeSeriesToSupervised)"
      ],
      "execution_count": 8,
      "outputs": []
    },
    {
      "cell_type": "code",
      "metadata": {
        "id": "b6LdR0Fj1XYs"
      },
      "source": [
        "initialTestSet = pd.concat(testSetDataFrames)\n",
        "initialTrainingSet = pd.concat(trainSetDataFrames)"
      ],
      "execution_count": 9,
      "outputs": []
    },
    {
      "cell_type": "markdown",
      "metadata": {
        "id": "AYDjQQuEaVG8"
      },
      "source": [
        "Transformed Sensor Data to be used by models"
      ]
    },
    {
      "cell_type": "code",
      "metadata": {
        "id": "-vEpcXng6A0-",
        "colab": {
          "base_uri": "https://localhost:8080/",
          "height": 224
        },
        "outputId": "1ea6f088-4d54-48a0-d82d-1b755324fe36"
      },
      "source": [
        "initialTrainingSet.head(5)"
      ],
      "execution_count": 78,
      "outputs": [
        {
          "output_type": "execute_result",
          "data": {
            "text/html": [
              "<div>\n",
              "<style scoped>\n",
              "    .dataframe tbody tr th:only-of-type {\n",
              "        vertical-align: middle;\n",
              "    }\n",
              "\n",
              "    .dataframe tbody tr th {\n",
              "        vertical-align: top;\n",
              "    }\n",
              "\n",
              "    .dataframe thead th {\n",
              "        text-align: right;\n",
              "    }\n",
              "</style>\n",
              "<table border=\"1\" class=\"dataframe\">\n",
              "  <thead>\n",
              "    <tr style=\"text-align: right;\">\n",
              "      <th></th>\n",
              "      <th>t</th>\n",
              "      <th>t1</th>\n",
              "      <th>t2</th>\n",
              "      <th>t3</th>\n",
              "      <th>t4</th>\n",
              "      <th>t5</th>\n",
              "      <th>t6</th>\n",
              "      <th>t7</th>\n",
              "      <th>t8</th>\n",
              "      <th>t9</th>\n",
              "      <th>t10</th>\n",
              "      <th>t11</th>\n",
              "      <th>t12</th>\n",
              "      <th>t13</th>\n",
              "      <th>t14</th>\n",
              "      <th>t15</th>\n",
              "      <th>t16</th>\n",
              "      <th>t17</th>\n",
              "      <th>t18</th>\n",
              "      <th>t19</th>\n",
              "      <th>t20</th>\n",
              "      <th>t21</th>\n",
              "      <th>t22</th>\n",
              "      <th>t23</th>\n",
              "      <th>t24</th>\n",
              "      <th>t25</th>\n",
              "      <th>t26</th>\n",
              "      <th>t27</th>\n",
              "      <th>t28</th>\n",
              "      <th>t29</th>\n",
              "      <th>t30</th>\n",
              "      <th>t31</th>\n",
              "      <th>t32</th>\n",
              "      <th>t33</th>\n",
              "      <th>t34</th>\n",
              "      <th>t35</th>\n",
              "      <th>t36</th>\n",
              "      <th>t37</th>\n",
              "      <th>t38</th>\n",
              "      <th>t39</th>\n",
              "      <th>t40</th>\n",
              "      <th>t41</th>\n",
              "      <th>t42</th>\n",
              "      <th>t43</th>\n",
              "      <th>t44</th>\n",
              "      <th>t45</th>\n",
              "      <th>t46</th>\n",
              "      <th>t47</th>\n",
              "      <th>t48</th>\n",
              "      <th>t49</th>\n",
              "      <th>t50</th>\n",
              "      <th>t51</th>\n",
              "      <th>t52</th>\n",
              "      <th>t53</th>\n",
              "      <th>t54</th>\n",
              "    </tr>\n",
              "  </thead>\n",
              "  <tbody>\n",
              "    <tr>\n",
              "      <th>0</th>\n",
              "      <td>290.0</td>\n",
              "      <td>291.0</td>\n",
              "      <td>290.0</td>\n",
              "      <td>290.0</td>\n",
              "      <td>289.0</td>\n",
              "      <td>286.0</td>\n",
              "      <td>283.0</td>\n",
              "      <td>278.0</td>\n",
              "      <td>272.0</td>\n",
              "      <td>266.0</td>\n",
              "      <td>260.0</td>\n",
              "      <td>255.0</td>\n",
              "      <td>249.0</td>\n",
              "      <td>240.0</td>\n",
              "      <td>230.0</td>\n",
              "      <td>222.0</td>\n",
              "      <td>216.0</td>\n",
              "      <td>210.0</td>\n",
              "      <td>204.0</td>\n",
              "      <td>197.0</td>\n",
              "      <td>194.0</td>\n",
              "      <td>194.0</td>\n",
              "      <td>196.0</td>\n",
              "      <td>196.0</td>\n",
              "      <td>196.0</td>\n",
              "      <td>194.0</td>\n",
              "      <td>191.0</td>\n",
              "      <td>188.0</td>\n",
              "      <td>185.0</td>\n",
              "      <td>182.0</td>\n",
              "      <td>178.0</td>\n",
              "      <td>172.0</td>\n",
              "      <td>165.0</td>\n",
              "      <td>159.0</td>\n",
              "      <td>157.0</td>\n",
              "      <td>157.0</td>\n",
              "      <td>158.0</td>\n",
              "      <td>159.0</td>\n",
              "      <td>159.0</td>\n",
              "      <td>156.0</td>\n",
              "      <td>152.0</td>\n",
              "      <td>148.0</td>\n",
              "      <td>144.0</td>\n",
              "      <td>141.0</td>\n",
              "      <td>139.0</td>\n",
              "      <td>135.0</td>\n",
              "      <td>131.0</td>\n",
              "      <td>126.0</td>\n",
              "      <td>123.0</td>\n",
              "      <td>121.0</td>\n",
              "      <td>121.0</td>\n",
              "      <td>121.0</td>\n",
              "      <td>121.0</td>\n",
              "      <td>118.0</td>\n",
              "      <td>115.0</td>\n",
              "    </tr>\n",
              "    <tr>\n",
              "      <th>1</th>\n",
              "      <td>291.0</td>\n",
              "      <td>290.0</td>\n",
              "      <td>290.0</td>\n",
              "      <td>289.0</td>\n",
              "      <td>286.0</td>\n",
              "      <td>283.0</td>\n",
              "      <td>278.0</td>\n",
              "      <td>272.0</td>\n",
              "      <td>266.0</td>\n",
              "      <td>260.0</td>\n",
              "      <td>255.0</td>\n",
              "      <td>249.0</td>\n",
              "      <td>240.0</td>\n",
              "      <td>230.0</td>\n",
              "      <td>222.0</td>\n",
              "      <td>216.0</td>\n",
              "      <td>210.0</td>\n",
              "      <td>204.0</td>\n",
              "      <td>197.0</td>\n",
              "      <td>194.0</td>\n",
              "      <td>194.0</td>\n",
              "      <td>196.0</td>\n",
              "      <td>196.0</td>\n",
              "      <td>196.0</td>\n",
              "      <td>194.0</td>\n",
              "      <td>191.0</td>\n",
              "      <td>188.0</td>\n",
              "      <td>185.0</td>\n",
              "      <td>182.0</td>\n",
              "      <td>178.0</td>\n",
              "      <td>172.0</td>\n",
              "      <td>165.0</td>\n",
              "      <td>159.0</td>\n",
              "      <td>157.0</td>\n",
              "      <td>157.0</td>\n",
              "      <td>158.0</td>\n",
              "      <td>159.0</td>\n",
              "      <td>159.0</td>\n",
              "      <td>156.0</td>\n",
              "      <td>152.0</td>\n",
              "      <td>148.0</td>\n",
              "      <td>144.0</td>\n",
              "      <td>141.0</td>\n",
              "      <td>139.0</td>\n",
              "      <td>135.0</td>\n",
              "      <td>131.0</td>\n",
              "      <td>126.0</td>\n",
              "      <td>123.0</td>\n",
              "      <td>121.0</td>\n",
              "      <td>121.0</td>\n",
              "      <td>121.0</td>\n",
              "      <td>121.0</td>\n",
              "      <td>118.0</td>\n",
              "      <td>115.0</td>\n",
              "      <td>114.0</td>\n",
              "    </tr>\n",
              "    <tr>\n",
              "      <th>2</th>\n",
              "      <td>290.0</td>\n",
              "      <td>290.0</td>\n",
              "      <td>289.0</td>\n",
              "      <td>286.0</td>\n",
              "      <td>283.0</td>\n",
              "      <td>278.0</td>\n",
              "      <td>272.0</td>\n",
              "      <td>266.0</td>\n",
              "      <td>260.0</td>\n",
              "      <td>255.0</td>\n",
              "      <td>249.0</td>\n",
              "      <td>240.0</td>\n",
              "      <td>230.0</td>\n",
              "      <td>222.0</td>\n",
              "      <td>216.0</td>\n",
              "      <td>210.0</td>\n",
              "      <td>204.0</td>\n",
              "      <td>197.0</td>\n",
              "      <td>194.0</td>\n",
              "      <td>194.0</td>\n",
              "      <td>196.0</td>\n",
              "      <td>196.0</td>\n",
              "      <td>196.0</td>\n",
              "      <td>194.0</td>\n",
              "      <td>191.0</td>\n",
              "      <td>188.0</td>\n",
              "      <td>185.0</td>\n",
              "      <td>182.0</td>\n",
              "      <td>178.0</td>\n",
              "      <td>172.0</td>\n",
              "      <td>165.0</td>\n",
              "      <td>159.0</td>\n",
              "      <td>157.0</td>\n",
              "      <td>157.0</td>\n",
              "      <td>158.0</td>\n",
              "      <td>159.0</td>\n",
              "      <td>159.0</td>\n",
              "      <td>156.0</td>\n",
              "      <td>152.0</td>\n",
              "      <td>148.0</td>\n",
              "      <td>144.0</td>\n",
              "      <td>141.0</td>\n",
              "      <td>139.0</td>\n",
              "      <td>135.0</td>\n",
              "      <td>131.0</td>\n",
              "      <td>126.0</td>\n",
              "      <td>123.0</td>\n",
              "      <td>121.0</td>\n",
              "      <td>121.0</td>\n",
              "      <td>121.0</td>\n",
              "      <td>121.0</td>\n",
              "      <td>118.0</td>\n",
              "      <td>115.0</td>\n",
              "      <td>114.0</td>\n",
              "      <td>117.0</td>\n",
              "    </tr>\n",
              "    <tr>\n",
              "      <th>3</th>\n",
              "      <td>290.0</td>\n",
              "      <td>289.0</td>\n",
              "      <td>286.0</td>\n",
              "      <td>283.0</td>\n",
              "      <td>278.0</td>\n",
              "      <td>272.0</td>\n",
              "      <td>266.0</td>\n",
              "      <td>260.0</td>\n",
              "      <td>255.0</td>\n",
              "      <td>249.0</td>\n",
              "      <td>240.0</td>\n",
              "      <td>230.0</td>\n",
              "      <td>222.0</td>\n",
              "      <td>216.0</td>\n",
              "      <td>210.0</td>\n",
              "      <td>204.0</td>\n",
              "      <td>197.0</td>\n",
              "      <td>194.0</td>\n",
              "      <td>194.0</td>\n",
              "      <td>196.0</td>\n",
              "      <td>196.0</td>\n",
              "      <td>196.0</td>\n",
              "      <td>194.0</td>\n",
              "      <td>191.0</td>\n",
              "      <td>188.0</td>\n",
              "      <td>185.0</td>\n",
              "      <td>182.0</td>\n",
              "      <td>178.0</td>\n",
              "      <td>172.0</td>\n",
              "      <td>165.0</td>\n",
              "      <td>159.0</td>\n",
              "      <td>157.0</td>\n",
              "      <td>157.0</td>\n",
              "      <td>158.0</td>\n",
              "      <td>159.0</td>\n",
              "      <td>159.0</td>\n",
              "      <td>156.0</td>\n",
              "      <td>152.0</td>\n",
              "      <td>148.0</td>\n",
              "      <td>144.0</td>\n",
              "      <td>141.0</td>\n",
              "      <td>139.0</td>\n",
              "      <td>135.0</td>\n",
              "      <td>131.0</td>\n",
              "      <td>126.0</td>\n",
              "      <td>123.0</td>\n",
              "      <td>121.0</td>\n",
              "      <td>121.0</td>\n",
              "      <td>121.0</td>\n",
              "      <td>121.0</td>\n",
              "      <td>118.0</td>\n",
              "      <td>115.0</td>\n",
              "      <td>114.0</td>\n",
              "      <td>117.0</td>\n",
              "      <td>124.0</td>\n",
              "    </tr>\n",
              "    <tr>\n",
              "      <th>4</th>\n",
              "      <td>289.0</td>\n",
              "      <td>286.0</td>\n",
              "      <td>283.0</td>\n",
              "      <td>278.0</td>\n",
              "      <td>272.0</td>\n",
              "      <td>266.0</td>\n",
              "      <td>260.0</td>\n",
              "      <td>255.0</td>\n",
              "      <td>249.0</td>\n",
              "      <td>240.0</td>\n",
              "      <td>230.0</td>\n",
              "      <td>222.0</td>\n",
              "      <td>216.0</td>\n",
              "      <td>210.0</td>\n",
              "      <td>204.0</td>\n",
              "      <td>197.0</td>\n",
              "      <td>194.0</td>\n",
              "      <td>194.0</td>\n",
              "      <td>196.0</td>\n",
              "      <td>196.0</td>\n",
              "      <td>196.0</td>\n",
              "      <td>194.0</td>\n",
              "      <td>191.0</td>\n",
              "      <td>188.0</td>\n",
              "      <td>185.0</td>\n",
              "      <td>182.0</td>\n",
              "      <td>178.0</td>\n",
              "      <td>172.0</td>\n",
              "      <td>165.0</td>\n",
              "      <td>159.0</td>\n",
              "      <td>157.0</td>\n",
              "      <td>157.0</td>\n",
              "      <td>158.0</td>\n",
              "      <td>159.0</td>\n",
              "      <td>159.0</td>\n",
              "      <td>156.0</td>\n",
              "      <td>152.0</td>\n",
              "      <td>148.0</td>\n",
              "      <td>144.0</td>\n",
              "      <td>141.0</td>\n",
              "      <td>139.0</td>\n",
              "      <td>135.0</td>\n",
              "      <td>131.0</td>\n",
              "      <td>126.0</td>\n",
              "      <td>123.0</td>\n",
              "      <td>121.0</td>\n",
              "      <td>121.0</td>\n",
              "      <td>121.0</td>\n",
              "      <td>121.0</td>\n",
              "      <td>118.0</td>\n",
              "      <td>115.0</td>\n",
              "      <td>114.0</td>\n",
              "      <td>117.0</td>\n",
              "      <td>124.0</td>\n",
              "      <td>132.0</td>\n",
              "    </tr>\n",
              "  </tbody>\n",
              "</table>\n",
              "</div>"
            ],
            "text/plain": [
              "       t     t1     t2     t3     t4  ...    t50    t51    t52    t53    t54\n",
              "0  290.0  291.0  290.0  290.0  289.0  ...  121.0  121.0  121.0  118.0  115.0\n",
              "1  291.0  290.0  290.0  289.0  286.0  ...  121.0  121.0  118.0  115.0  114.0\n",
              "2  290.0  290.0  289.0  286.0  283.0  ...  121.0  118.0  115.0  114.0  117.0\n",
              "3  290.0  289.0  286.0  283.0  278.0  ...  118.0  115.0  114.0  117.0  124.0\n",
              "4  289.0  286.0  283.0  278.0  272.0  ...  115.0  114.0  117.0  124.0  132.0\n",
              "\n",
              "[5 rows x 55 columns]"
            ]
          },
          "metadata": {},
          "execution_count": 78
        }
      ]
    },
    {
      "cell_type": "code",
      "metadata": {
        "colab": {
          "base_uri": "https://localhost:8080/",
          "height": 317
        },
        "id": "FBD0Hx5F3E7n",
        "outputId": "da54364f-4b14-4157-9418-12433e8649b6"
      },
      "source": [
        "initialTrainingSet.describe()"
      ],
      "execution_count": null,
      "outputs": [
        {
          "output_type": "execute_result",
          "data": {
            "text/html": [
              "<div>\n",
              "<style scoped>\n",
              "    .dataframe tbody tr th:only-of-type {\n",
              "        vertical-align: middle;\n",
              "    }\n",
              "\n",
              "    .dataframe tbody tr th {\n",
              "        vertical-align: top;\n",
              "    }\n",
              "\n",
              "    .dataframe thead th {\n",
              "        text-align: right;\n",
              "    }\n",
              "</style>\n",
              "<table border=\"1\" class=\"dataframe\">\n",
              "  <thead>\n",
              "    <tr style=\"text-align: right;\">\n",
              "      <th></th>\n",
              "      <th>t</th>\n",
              "      <th>t1</th>\n",
              "      <th>t2</th>\n",
              "      <th>t3</th>\n",
              "      <th>t4</th>\n",
              "      <th>t5</th>\n",
              "      <th>t6</th>\n",
              "      <th>t7</th>\n",
              "      <th>t8</th>\n",
              "      <th>t9</th>\n",
              "      <th>t10</th>\n",
              "      <th>t11</th>\n",
              "      <th>t12</th>\n",
              "      <th>t13</th>\n",
              "      <th>t14</th>\n",
              "      <th>t15</th>\n",
              "      <th>t16</th>\n",
              "      <th>t17</th>\n",
              "      <th>t18</th>\n",
              "      <th>t19</th>\n",
              "      <th>t20</th>\n",
              "      <th>t21</th>\n",
              "      <th>t22</th>\n",
              "      <th>t23</th>\n",
              "      <th>t24</th>\n",
              "      <th>t25</th>\n",
              "      <th>t26</th>\n",
              "      <th>t27</th>\n",
              "      <th>t28</th>\n",
              "      <th>t29</th>\n",
              "      <th>t30</th>\n",
              "      <th>t31</th>\n",
              "      <th>t32</th>\n",
              "      <th>t33</th>\n",
              "      <th>t34</th>\n",
              "      <th>t35</th>\n",
              "      <th>t36</th>\n",
              "      <th>t37</th>\n",
              "      <th>t38</th>\n",
              "      <th>t39</th>\n",
              "      <th>t40</th>\n",
              "      <th>t41</th>\n",
              "      <th>t42</th>\n",
              "      <th>t43</th>\n",
              "      <th>t44</th>\n",
              "      <th>t45</th>\n",
              "      <th>t46</th>\n",
              "      <th>t47</th>\n",
              "      <th>t48</th>\n",
              "      <th>t49</th>\n",
              "      <th>t50</th>\n",
              "      <th>t51</th>\n",
              "      <th>t52</th>\n",
              "      <th>t53</th>\n",
              "      <th>t54</th>\n",
              "    </tr>\n",
              "  </thead>\n",
              "  <tbody>\n",
              "    <tr>\n",
              "      <th>count</th>\n",
              "      <td>1.451252e+06</td>\n",
              "      <td>1.451252e+06</td>\n",
              "      <td>1.451252e+06</td>\n",
              "      <td>1.451252e+06</td>\n",
              "      <td>1.451252e+06</td>\n",
              "      <td>1.451252e+06</td>\n",
              "      <td>1.451252e+06</td>\n",
              "      <td>1.451252e+06</td>\n",
              "      <td>1.451252e+06</td>\n",
              "      <td>1.451252e+06</td>\n",
              "      <td>1.451252e+06</td>\n",
              "      <td>1.451252e+06</td>\n",
              "      <td>1.451252e+06</td>\n",
              "      <td>1.451252e+06</td>\n",
              "      <td>1.451252e+06</td>\n",
              "      <td>1.451252e+06</td>\n",
              "      <td>1.451252e+06</td>\n",
              "      <td>1.451252e+06</td>\n",
              "      <td>1.451252e+06</td>\n",
              "      <td>1.451252e+06</td>\n",
              "      <td>1.451252e+06</td>\n",
              "      <td>1.451252e+06</td>\n",
              "      <td>1.451252e+06</td>\n",
              "      <td>1.451252e+06</td>\n",
              "      <td>1.451252e+06</td>\n",
              "      <td>1.451252e+06</td>\n",
              "      <td>1.451252e+06</td>\n",
              "      <td>1.451252e+06</td>\n",
              "      <td>1.451252e+06</td>\n",
              "      <td>1.451252e+06</td>\n",
              "      <td>1.451252e+06</td>\n",
              "      <td>1.451252e+06</td>\n",
              "      <td>1.451252e+06</td>\n",
              "      <td>1.451252e+06</td>\n",
              "      <td>1.451252e+06</td>\n",
              "      <td>1.451252e+06</td>\n",
              "      <td>1.451252e+06</td>\n",
              "      <td>1.451252e+06</td>\n",
              "      <td>1.451252e+06</td>\n",
              "      <td>1.451252e+06</td>\n",
              "      <td>1.451252e+06</td>\n",
              "      <td>1.451252e+06</td>\n",
              "      <td>1.451252e+06</td>\n",
              "      <td>1.451252e+06</td>\n",
              "      <td>1.451252e+06</td>\n",
              "      <td>1.451252e+06</td>\n",
              "      <td>1.451252e+06</td>\n",
              "      <td>1.451252e+06</td>\n",
              "      <td>1.451252e+06</td>\n",
              "      <td>1.451252e+06</td>\n",
              "      <td>1.451252e+06</td>\n",
              "      <td>1.451252e+06</td>\n",
              "      <td>1.451252e+06</td>\n",
              "      <td>1.451252e+06</td>\n",
              "      <td>1.451252e+06</td>\n",
              "    </tr>\n",
              "    <tr>\n",
              "      <th>mean</th>\n",
              "      <td>1.676370e+02</td>\n",
              "      <td>1.675406e+02</td>\n",
              "      <td>1.674495e+02</td>\n",
              "      <td>1.673576e+02</td>\n",
              "      <td>1.672705e+02</td>\n",
              "      <td>1.671876e+02</td>\n",
              "      <td>1.671095e+02</td>\n",
              "      <td>1.670362e+02</td>\n",
              "      <td>1.669674e+02</td>\n",
              "      <td>1.669029e+02</td>\n",
              "      <td>1.668421e+02</td>\n",
              "      <td>1.667852e+02</td>\n",
              "      <td>1.667317e+02</td>\n",
              "      <td>1.666817e+02</td>\n",
              "      <td>1.666356e+02</td>\n",
              "      <td>1.665933e+02</td>\n",
              "      <td>1.665548e+02</td>\n",
              "      <td>1.665196e+02</td>\n",
              "      <td>1.664875e+02</td>\n",
              "      <td>1.664587e+02</td>\n",
              "      <td>1.664332e+02</td>\n",
              "      <td>1.664110e+02</td>\n",
              "      <td>1.663917e+02</td>\n",
              "      <td>1.663749e+02</td>\n",
              "      <td>1.663608e+02</td>\n",
              "      <td>1.663493e+02</td>\n",
              "      <td>1.663407e+02</td>\n",
              "      <td>1.663350e+02</td>\n",
              "      <td>1.663314e+02</td>\n",
              "      <td>1.663303e+02</td>\n",
              "      <td>1.663316e+02</td>\n",
              "      <td>1.663352e+02</td>\n",
              "      <td>1.663410e+02</td>\n",
              "      <td>1.663496e+02</td>\n",
              "      <td>1.663609e+02</td>\n",
              "      <td>1.663752e+02</td>\n",
              "      <td>1.663933e+02</td>\n",
              "      <td>1.664151e+02</td>\n",
              "      <td>1.664409e+02</td>\n",
              "      <td>1.664710e+02</td>\n",
              "      <td>1.665049e+02</td>\n",
              "      <td>1.665428e+02</td>\n",
              "      <td>1.665847e+02</td>\n",
              "      <td>1.666305e+02</td>\n",
              "      <td>1.666804e+02</td>\n",
              "      <td>1.667343e+02</td>\n",
              "      <td>1.667921e+02</td>\n",
              "      <td>1.668539e+02</td>\n",
              "      <td>1.669199e+02</td>\n",
              "      <td>1.669904e+02</td>\n",
              "      <td>1.670648e+02</td>\n",
              "      <td>1.671427e+02</td>\n",
              "      <td>1.672243e+02</td>\n",
              "      <td>1.673102e+02</td>\n",
              "      <td>1.674011e+02</td>\n",
              "    </tr>\n",
              "    <tr>\n",
              "      <th>std</th>\n",
              "      <td>7.003670e+01</td>\n",
              "      <td>6.980746e+01</td>\n",
              "      <td>6.960942e+01</td>\n",
              "      <td>6.943903e+01</td>\n",
              "      <td>6.928953e+01</td>\n",
              "      <td>6.915668e+01</td>\n",
              "      <td>6.903819e+01</td>\n",
              "      <td>6.893163e+01</td>\n",
              "      <td>6.883525e+01</td>\n",
              "      <td>6.874794e+01</td>\n",
              "      <td>6.866842e+01</td>\n",
              "      <td>6.859643e+01</td>\n",
              "      <td>6.853096e+01</td>\n",
              "      <td>6.847171e+01</td>\n",
              "      <td>6.841836e+01</td>\n",
              "      <td>6.837047e+01</td>\n",
              "      <td>6.832780e+01</td>\n",
              "      <td>6.828921e+01</td>\n",
              "      <td>6.825445e+01</td>\n",
              "      <td>6.822318e+01</td>\n",
              "      <td>6.819498e+01</td>\n",
              "      <td>6.817035e+01</td>\n",
              "      <td>6.814883e+01</td>\n",
              "      <td>6.813020e+01</td>\n",
              "      <td>6.811408e+01</td>\n",
              "      <td>6.810060e+01</td>\n",
              "      <td>6.808972e+01</td>\n",
              "      <td>6.808120e+01</td>\n",
              "      <td>6.807510e+01</td>\n",
              "      <td>6.807133e+01</td>\n",
              "      <td>6.806997e+01</td>\n",
              "      <td>6.807073e+01</td>\n",
              "      <td>6.807386e+01</td>\n",
              "      <td>6.807933e+01</td>\n",
              "      <td>6.808753e+01</td>\n",
              "      <td>6.809904e+01</td>\n",
              "      <td>6.811480e+01</td>\n",
              "      <td>6.813573e+01</td>\n",
              "      <td>6.816216e+01</td>\n",
              "      <td>6.819452e+01</td>\n",
              "      <td>6.823330e+01</td>\n",
              "      <td>6.827843e+01</td>\n",
              "      <td>6.833063e+01</td>\n",
              "      <td>6.838995e+01</td>\n",
              "      <td>6.845787e+01</td>\n",
              "      <td>6.853437e+01</td>\n",
              "      <td>6.862023e+01</td>\n",
              "      <td>6.871651e+01</td>\n",
              "      <td>6.882410e+01</td>\n",
              "      <td>6.894464e+01</td>\n",
              "      <td>6.907927e+01</td>\n",
              "      <td>6.922937e+01</td>\n",
              "      <td>6.939879e+01</td>\n",
              "      <td>6.959128e+01</td>\n",
              "      <td>6.981180e+01</td>\n",
              "    </tr>\n",
              "    <tr>\n",
              "      <th>min</th>\n",
              "      <td>3.500000e+01</td>\n",
              "      <td>3.500000e+01</td>\n",
              "      <td>3.500000e+01</td>\n",
              "      <td>3.500000e+01</td>\n",
              "      <td>3.500000e+01</td>\n",
              "      <td>3.500000e+01</td>\n",
              "      <td>3.500000e+01</td>\n",
              "      <td>3.500000e+01</td>\n",
              "      <td>3.500000e+01</td>\n",
              "      <td>3.500000e+01</td>\n",
              "      <td>3.500000e+01</td>\n",
              "      <td>3.500000e+01</td>\n",
              "      <td>3.500000e+01</td>\n",
              "      <td>3.500000e+01</td>\n",
              "      <td>3.500000e+01</td>\n",
              "      <td>3.500000e+01</td>\n",
              "      <td>3.500000e+01</td>\n",
              "      <td>3.500000e+01</td>\n",
              "      <td>3.500000e+01</td>\n",
              "      <td>3.500000e+01</td>\n",
              "      <td>3.500000e+01</td>\n",
              "      <td>3.500000e+01</td>\n",
              "      <td>3.500000e+01</td>\n",
              "      <td>3.500000e+01</td>\n",
              "      <td>3.500000e+01</td>\n",
              "      <td>3.500000e+01</td>\n",
              "      <td>3.500000e+01</td>\n",
              "      <td>3.500000e+01</td>\n",
              "      <td>3.500000e+01</td>\n",
              "      <td>3.500000e+01</td>\n",
              "      <td>3.500000e+01</td>\n",
              "      <td>3.500000e+01</td>\n",
              "      <td>3.500000e+01</td>\n",
              "      <td>3.500000e+01</td>\n",
              "      <td>3.500000e+01</td>\n",
              "      <td>3.500000e+01</td>\n",
              "      <td>3.500000e+01</td>\n",
              "      <td>3.500000e+01</td>\n",
              "      <td>3.500000e+01</td>\n",
              "      <td>3.500000e+01</td>\n",
              "      <td>3.500000e+01</td>\n",
              "      <td>3.500000e+01</td>\n",
              "      <td>3.500000e+01</td>\n",
              "      <td>3.500000e+01</td>\n",
              "      <td>3.500000e+01</td>\n",
              "      <td>3.500000e+01</td>\n",
              "      <td>3.500000e+01</td>\n",
              "      <td>3.500000e+01</td>\n",
              "      <td>3.500000e+01</td>\n",
              "      <td>3.500000e+01</td>\n",
              "      <td>3.500000e+01</td>\n",
              "      <td>3.500000e+01</td>\n",
              "      <td>3.500000e+01</td>\n",
              "      <td>3.400000e+01</td>\n",
              "      <td>3.400000e+01</td>\n",
              "    </tr>\n",
              "    <tr>\n",
              "      <th>25%</th>\n",
              "      <td>1.120000e+02</td>\n",
              "      <td>1.120000e+02</td>\n",
              "      <td>1.120000e+02</td>\n",
              "      <td>1.120000e+02</td>\n",
              "      <td>1.120000e+02</td>\n",
              "      <td>1.120000e+02</td>\n",
              "      <td>1.120000e+02</td>\n",
              "      <td>1.120000e+02</td>\n",
              "      <td>1.120000e+02</td>\n",
              "      <td>1.120000e+02</td>\n",
              "      <td>1.120000e+02</td>\n",
              "      <td>1.120000e+02</td>\n",
              "      <td>1.120000e+02</td>\n",
              "      <td>1.120000e+02</td>\n",
              "      <td>1.120000e+02</td>\n",
              "      <td>1.120000e+02</td>\n",
              "      <td>1.120000e+02</td>\n",
              "      <td>1.120000e+02</td>\n",
              "      <td>1.120000e+02</td>\n",
              "      <td>1.120000e+02</td>\n",
              "      <td>1.120000e+02</td>\n",
              "      <td>1.120000e+02</td>\n",
              "      <td>1.120000e+02</td>\n",
              "      <td>1.120000e+02</td>\n",
              "      <td>1.120000e+02</td>\n",
              "      <td>1.120000e+02</td>\n",
              "      <td>1.120000e+02</td>\n",
              "      <td>1.120000e+02</td>\n",
              "      <td>1.120000e+02</td>\n",
              "      <td>1.120000e+02</td>\n",
              "      <td>1.120000e+02</td>\n",
              "      <td>1.120000e+02</td>\n",
              "      <td>1.120000e+02</td>\n",
              "      <td>1.120000e+02</td>\n",
              "      <td>1.120000e+02</td>\n",
              "      <td>1.120000e+02</td>\n",
              "      <td>1.120000e+02</td>\n",
              "      <td>1.120000e+02</td>\n",
              "      <td>1.120000e+02</td>\n",
              "      <td>1.120000e+02</td>\n",
              "      <td>1.120000e+02</td>\n",
              "      <td>1.120000e+02</td>\n",
              "      <td>1.120000e+02</td>\n",
              "      <td>1.120000e+02</td>\n",
              "      <td>1.120000e+02</td>\n",
              "      <td>1.120000e+02</td>\n",
              "      <td>1.120000e+02</td>\n",
              "      <td>1.120000e+02</td>\n",
              "      <td>1.120000e+02</td>\n",
              "      <td>1.120000e+02</td>\n",
              "      <td>1.120000e+02</td>\n",
              "      <td>1.120000e+02</td>\n",
              "      <td>1.120000e+02</td>\n",
              "      <td>1.120000e+02</td>\n",
              "      <td>1.120000e+02</td>\n",
              "    </tr>\n",
              "    <tr>\n",
              "      <th>50%</th>\n",
              "      <td>1.530000e+02</td>\n",
              "      <td>1.530000e+02</td>\n",
              "      <td>1.530000e+02</td>\n",
              "      <td>1.530000e+02</td>\n",
              "      <td>1.530000e+02</td>\n",
              "      <td>1.530000e+02</td>\n",
              "      <td>1.530000e+02</td>\n",
              "      <td>1.530000e+02</td>\n",
              "      <td>1.530000e+02</td>\n",
              "      <td>1.530000e+02</td>\n",
              "      <td>1.530000e+02</td>\n",
              "      <td>1.530000e+02</td>\n",
              "      <td>1.530000e+02</td>\n",
              "      <td>1.530000e+02</td>\n",
              "      <td>1.530000e+02</td>\n",
              "      <td>1.530000e+02</td>\n",
              "      <td>1.530000e+02</td>\n",
              "      <td>1.530000e+02</td>\n",
              "      <td>1.530000e+02</td>\n",
              "      <td>1.530000e+02</td>\n",
              "      <td>1.530000e+02</td>\n",
              "      <td>1.530000e+02</td>\n",
              "      <td>1.530000e+02</td>\n",
              "      <td>1.530000e+02</td>\n",
              "      <td>1.530000e+02</td>\n",
              "      <td>1.530000e+02</td>\n",
              "      <td>1.530000e+02</td>\n",
              "      <td>1.530000e+02</td>\n",
              "      <td>1.530000e+02</td>\n",
              "      <td>1.530000e+02</td>\n",
              "      <td>1.530000e+02</td>\n",
              "      <td>1.530000e+02</td>\n",
              "      <td>1.530000e+02</td>\n",
              "      <td>1.530000e+02</td>\n",
              "      <td>1.530000e+02</td>\n",
              "      <td>1.530000e+02</td>\n",
              "      <td>1.530000e+02</td>\n",
              "      <td>1.530000e+02</td>\n",
              "      <td>1.530000e+02</td>\n",
              "      <td>1.530000e+02</td>\n",
              "      <td>1.530000e+02</td>\n",
              "      <td>1.530000e+02</td>\n",
              "      <td>1.530000e+02</td>\n",
              "      <td>1.530000e+02</td>\n",
              "      <td>1.530000e+02</td>\n",
              "      <td>1.530000e+02</td>\n",
              "      <td>1.530000e+02</td>\n",
              "      <td>1.530000e+02</td>\n",
              "      <td>1.530000e+02</td>\n",
              "      <td>1.530000e+02</td>\n",
              "      <td>1.530000e+02</td>\n",
              "      <td>1.530000e+02</td>\n",
              "      <td>1.530000e+02</td>\n",
              "      <td>1.530000e+02</td>\n",
              "      <td>1.530000e+02</td>\n",
              "    </tr>\n",
              "    <tr>\n",
              "      <th>75%</th>\n",
              "      <td>2.120000e+02</td>\n",
              "      <td>2.120000e+02</td>\n",
              "      <td>2.120000e+02</td>\n",
              "      <td>2.120000e+02</td>\n",
              "      <td>2.120000e+02</td>\n",
              "      <td>2.120000e+02</td>\n",
              "      <td>2.110000e+02</td>\n",
              "      <td>2.110000e+02</td>\n",
              "      <td>2.110000e+02</td>\n",
              "      <td>2.110000e+02</td>\n",
              "      <td>2.110000e+02</td>\n",
              "      <td>2.110000e+02</td>\n",
              "      <td>2.110000e+02</td>\n",
              "      <td>2.110000e+02</td>\n",
              "      <td>2.110000e+02</td>\n",
              "      <td>2.110000e+02</td>\n",
              "      <td>2.110000e+02</td>\n",
              "      <td>2.110000e+02</td>\n",
              "      <td>2.110000e+02</td>\n",
              "      <td>2.110000e+02</td>\n",
              "      <td>2.110000e+02</td>\n",
              "      <td>2.110000e+02</td>\n",
              "      <td>2.100000e+02</td>\n",
              "      <td>2.100000e+02</td>\n",
              "      <td>2.100000e+02</td>\n",
              "      <td>2.100000e+02</td>\n",
              "      <td>2.100000e+02</td>\n",
              "      <td>2.100000e+02</td>\n",
              "      <td>2.100000e+02</td>\n",
              "      <td>2.100000e+02</td>\n",
              "      <td>2.100000e+02</td>\n",
              "      <td>2.100000e+02</td>\n",
              "      <td>2.100000e+02</td>\n",
              "      <td>2.100000e+02</td>\n",
              "      <td>2.100000e+02</td>\n",
              "      <td>2.100000e+02</td>\n",
              "      <td>2.110000e+02</td>\n",
              "      <td>2.110000e+02</td>\n",
              "      <td>2.110000e+02</td>\n",
              "      <td>2.110000e+02</td>\n",
              "      <td>2.110000e+02</td>\n",
              "      <td>2.110000e+02</td>\n",
              "      <td>2.110000e+02</td>\n",
              "      <td>2.110000e+02</td>\n",
              "      <td>2.110000e+02</td>\n",
              "      <td>2.110000e+02</td>\n",
              "      <td>2.110000e+02</td>\n",
              "      <td>2.110000e+02</td>\n",
              "      <td>2.110000e+02</td>\n",
              "      <td>2.110000e+02</td>\n",
              "      <td>2.110000e+02</td>\n",
              "      <td>2.110000e+02</td>\n",
              "      <td>2.120000e+02</td>\n",
              "      <td>2.120000e+02</td>\n",
              "      <td>2.120000e+02</td>\n",
              "    </tr>\n",
              "    <tr>\n",
              "      <th>max</th>\n",
              "      <td>4.660000e+02</td>\n",
              "      <td>4.660000e+02</td>\n",
              "      <td>4.660000e+02</td>\n",
              "      <td>4.660000e+02</td>\n",
              "      <td>4.660000e+02</td>\n",
              "      <td>4.660000e+02</td>\n",
              "      <td>4.660000e+02</td>\n",
              "      <td>4.660000e+02</td>\n",
              "      <td>4.660000e+02</td>\n",
              "      <td>4.660000e+02</td>\n",
              "      <td>4.660000e+02</td>\n",
              "      <td>4.660000e+02</td>\n",
              "      <td>4.660000e+02</td>\n",
              "      <td>4.660000e+02</td>\n",
              "      <td>4.660000e+02</td>\n",
              "      <td>4.660000e+02</td>\n",
              "      <td>4.660000e+02</td>\n",
              "      <td>4.660000e+02</td>\n",
              "      <td>4.660000e+02</td>\n",
              "      <td>4.660000e+02</td>\n",
              "      <td>4.660000e+02</td>\n",
              "      <td>4.660000e+02</td>\n",
              "      <td>4.660000e+02</td>\n",
              "      <td>4.660000e+02</td>\n",
              "      <td>4.660000e+02</td>\n",
              "      <td>4.660000e+02</td>\n",
              "      <td>4.660000e+02</td>\n",
              "      <td>4.660000e+02</td>\n",
              "      <td>4.660000e+02</td>\n",
              "      <td>4.660000e+02</td>\n",
              "      <td>4.660000e+02</td>\n",
              "      <td>4.660000e+02</td>\n",
              "      <td>4.660000e+02</td>\n",
              "      <td>4.660000e+02</td>\n",
              "      <td>4.660000e+02</td>\n",
              "      <td>4.660000e+02</td>\n",
              "      <td>4.660000e+02</td>\n",
              "      <td>4.660000e+02</td>\n",
              "      <td>4.660000e+02</td>\n",
              "      <td>4.660000e+02</td>\n",
              "      <td>4.660000e+02</td>\n",
              "      <td>4.660000e+02</td>\n",
              "      <td>4.660000e+02</td>\n",
              "      <td>4.660000e+02</td>\n",
              "      <td>4.660000e+02</td>\n",
              "      <td>4.660000e+02</td>\n",
              "      <td>4.660000e+02</td>\n",
              "      <td>4.660000e+02</td>\n",
              "      <td>4.660000e+02</td>\n",
              "      <td>4.660000e+02</td>\n",
              "      <td>4.660000e+02</td>\n",
              "      <td>4.660000e+02</td>\n",
              "      <td>4.660000e+02</td>\n",
              "      <td>4.660000e+02</td>\n",
              "      <td>4.660000e+02</td>\n",
              "    </tr>\n",
              "  </tbody>\n",
              "</table>\n",
              "</div>"
            ],
            "text/plain": [
              "                  t            t1  ...           t53           t54\n",
              "count  1.451252e+06  1.451252e+06  ...  1.451252e+06  1.451252e+06\n",
              "mean   1.676370e+02  1.675406e+02  ...  1.673102e+02  1.674011e+02\n",
              "std    7.003670e+01  6.980746e+01  ...  6.959128e+01  6.981180e+01\n",
              "min    3.500000e+01  3.500000e+01  ...  3.400000e+01  3.400000e+01\n",
              "25%    1.120000e+02  1.120000e+02  ...  1.120000e+02  1.120000e+02\n",
              "50%    1.530000e+02  1.530000e+02  ...  1.530000e+02  1.530000e+02\n",
              "75%    2.120000e+02  2.120000e+02  ...  2.120000e+02  2.120000e+02\n",
              "max    4.660000e+02  4.660000e+02  ...  4.660000e+02  4.660000e+02\n",
              "\n",
              "[8 rows x 55 columns]"
            ]
          },
          "metadata": {},
          "execution_count": 10
        }
      ]
    },
    {
      "cell_type": "code",
      "metadata": {
        "id": "fcHE9Nq6Ods9",
        "colab": {
          "base_uri": "https://localhost:8080/",
          "height": 317
        },
        "outputId": "9bc1d8c3-c47a-4140-978a-94c840e1ab4a"
      },
      "source": [
        "initialTestSet.describe()"
      ],
      "execution_count": null,
      "outputs": [
        {
          "output_type": "execute_result",
          "data": {
            "text/html": [
              "<div>\n",
              "<style scoped>\n",
              "    .dataframe tbody tr th:only-of-type {\n",
              "        vertical-align: middle;\n",
              "    }\n",
              "\n",
              "    .dataframe tbody tr th {\n",
              "        vertical-align: top;\n",
              "    }\n",
              "\n",
              "    .dataframe thead th {\n",
              "        text-align: right;\n",
              "    }\n",
              "</style>\n",
              "<table border=\"1\" class=\"dataframe\">\n",
              "  <thead>\n",
              "    <tr style=\"text-align: right;\">\n",
              "      <th></th>\n",
              "      <th>t</th>\n",
              "      <th>t1</th>\n",
              "      <th>t2</th>\n",
              "      <th>t3</th>\n",
              "      <th>t4</th>\n",
              "      <th>t5</th>\n",
              "      <th>t6</th>\n",
              "      <th>t7</th>\n",
              "      <th>t8</th>\n",
              "      <th>t9</th>\n",
              "      <th>t10</th>\n",
              "      <th>t11</th>\n",
              "      <th>t12</th>\n",
              "      <th>t13</th>\n",
              "      <th>t14</th>\n",
              "      <th>t15</th>\n",
              "      <th>t16</th>\n",
              "      <th>t17</th>\n",
              "      <th>t18</th>\n",
              "      <th>t19</th>\n",
              "      <th>t20</th>\n",
              "      <th>t21</th>\n",
              "      <th>t22</th>\n",
              "      <th>t23</th>\n",
              "      <th>t24</th>\n",
              "      <th>t25</th>\n",
              "      <th>t26</th>\n",
              "      <th>t27</th>\n",
              "      <th>t28</th>\n",
              "      <th>t29</th>\n",
              "      <th>t30</th>\n",
              "      <th>t31</th>\n",
              "      <th>t32</th>\n",
              "      <th>t33</th>\n",
              "      <th>t34</th>\n",
              "      <th>t35</th>\n",
              "      <th>t36</th>\n",
              "      <th>t37</th>\n",
              "      <th>t38</th>\n",
              "      <th>t39</th>\n",
              "      <th>t40</th>\n",
              "      <th>t41</th>\n",
              "      <th>t42</th>\n",
              "      <th>t43</th>\n",
              "      <th>t44</th>\n",
              "      <th>t45</th>\n",
              "      <th>t46</th>\n",
              "      <th>t47</th>\n",
              "      <th>t48</th>\n",
              "      <th>t49</th>\n",
              "      <th>t50</th>\n",
              "      <th>t51</th>\n",
              "      <th>t52</th>\n",
              "      <th>t53</th>\n",
              "      <th>t54</th>\n",
              "    </tr>\n",
              "  </thead>\n",
              "  <tbody>\n",
              "    <tr>\n",
              "      <th>count</th>\n",
              "      <td>351524.000000</td>\n",
              "      <td>351524.000000</td>\n",
              "      <td>351524.000000</td>\n",
              "      <td>351524.000000</td>\n",
              "      <td>351524.000000</td>\n",
              "      <td>351524.000000</td>\n",
              "      <td>351524.000000</td>\n",
              "      <td>351524.000000</td>\n",
              "      <td>351524.000000</td>\n",
              "      <td>351524.000000</td>\n",
              "      <td>351524.000000</td>\n",
              "      <td>351524.000000</td>\n",
              "      <td>351524.000000</td>\n",
              "      <td>351524.000000</td>\n",
              "      <td>351524.000000</td>\n",
              "      <td>351524.000000</td>\n",
              "      <td>351524.000000</td>\n",
              "      <td>351524.000000</td>\n",
              "      <td>351524.000000</td>\n",
              "      <td>351524.000000</td>\n",
              "      <td>351524.000000</td>\n",
              "      <td>351524.000000</td>\n",
              "      <td>351524.000000</td>\n",
              "      <td>351524.000000</td>\n",
              "      <td>351524.000000</td>\n",
              "      <td>351524.000000</td>\n",
              "      <td>351524.000000</td>\n",
              "      <td>351524.000000</td>\n",
              "      <td>351524.000000</td>\n",
              "      <td>351524.000000</td>\n",
              "      <td>351524.000000</td>\n",
              "      <td>351524.000000</td>\n",
              "      <td>351524.000000</td>\n",
              "      <td>351524.000000</td>\n",
              "      <td>351524.000000</td>\n",
              "      <td>351524.000000</td>\n",
              "      <td>351524.00000</td>\n",
              "      <td>351524.000000</td>\n",
              "      <td>351524.000000</td>\n",
              "      <td>351524.000000</td>\n",
              "      <td>351524.000000</td>\n",
              "      <td>351524.000000</td>\n",
              "      <td>351524.000000</td>\n",
              "      <td>351524.000000</td>\n",
              "      <td>351524.000000</td>\n",
              "      <td>351524.000000</td>\n",
              "      <td>351524.000000</td>\n",
              "      <td>351524.000000</td>\n",
              "      <td>351524.000000</td>\n",
              "      <td>351524.000000</td>\n",
              "      <td>351524.000000</td>\n",
              "      <td>351524.000000</td>\n",
              "      <td>351524.000000</td>\n",
              "      <td>351524.000000</td>\n",
              "      <td>351524.000000</td>\n",
              "    </tr>\n",
              "    <tr>\n",
              "      <th>mean</th>\n",
              "      <td>161.789309</td>\n",
              "      <td>161.681538</td>\n",
              "      <td>161.578199</td>\n",
              "      <td>161.475285</td>\n",
              "      <td>161.377656</td>\n",
              "      <td>161.283537</td>\n",
              "      <td>161.193503</td>\n",
              "      <td>161.107722</td>\n",
              "      <td>161.026576</td>\n",
              "      <td>160.949776</td>\n",
              "      <td>160.877519</td>\n",
              "      <td>160.811558</td>\n",
              "      <td>160.751374</td>\n",
              "      <td>160.696180</td>\n",
              "      <td>160.645868</td>\n",
              "      <td>160.599834</td>\n",
              "      <td>160.558084</td>\n",
              "      <td>160.520394</td>\n",
              "      <td>160.486379</td>\n",
              "      <td>160.455235</td>\n",
              "      <td>160.425578</td>\n",
              "      <td>160.399600</td>\n",
              "      <td>160.376606</td>\n",
              "      <td>160.356431</td>\n",
              "      <td>160.339712</td>\n",
              "      <td>160.325750</td>\n",
              "      <td>160.315717</td>\n",
              "      <td>160.309103</td>\n",
              "      <td>160.307006</td>\n",
              "      <td>160.308807</td>\n",
              "      <td>160.312963</td>\n",
              "      <td>160.320450</td>\n",
              "      <td>160.330746</td>\n",
              "      <td>160.343464</td>\n",
              "      <td>160.358508</td>\n",
              "      <td>160.375755</td>\n",
              "      <td>160.39589</td>\n",
              "      <td>160.419641</td>\n",
              "      <td>160.446539</td>\n",
              "      <td>160.477253</td>\n",
              "      <td>160.511251</td>\n",
              "      <td>160.548549</td>\n",
              "      <td>160.588546</td>\n",
              "      <td>160.631496</td>\n",
              "      <td>160.677806</td>\n",
              "      <td>160.728946</td>\n",
              "      <td>160.785685</td>\n",
              "      <td>160.846400</td>\n",
              "      <td>160.911770</td>\n",
              "      <td>160.982249</td>\n",
              "      <td>161.057646</td>\n",
              "      <td>161.141379</td>\n",
              "      <td>161.231028</td>\n",
              "      <td>161.327622</td>\n",
              "      <td>161.431083</td>\n",
              "    </tr>\n",
              "    <tr>\n",
              "      <th>std</th>\n",
              "      <td>69.821229</td>\n",
              "      <td>69.584393</td>\n",
              "      <td>69.377814</td>\n",
              "      <td>69.199614</td>\n",
              "      <td>69.042309</td>\n",
              "      <td>68.901431</td>\n",
              "      <td>68.774803</td>\n",
              "      <td>68.661119</td>\n",
              "      <td>68.559005</td>\n",
              "      <td>68.466896</td>\n",
              "      <td>68.384205</td>\n",
              "      <td>68.313059</td>\n",
              "      <td>68.251974</td>\n",
              "      <td>68.198337</td>\n",
              "      <td>68.151855</td>\n",
              "      <td>68.111498</td>\n",
              "      <td>68.076452</td>\n",
              "      <td>68.046410</td>\n",
              "      <td>68.021381</td>\n",
              "      <td>67.999825</td>\n",
              "      <td>67.979853</td>\n",
              "      <td>67.963315</td>\n",
              "      <td>67.949839</td>\n",
              "      <td>67.939747</td>\n",
              "      <td>67.933133</td>\n",
              "      <td>67.930129</td>\n",
              "      <td>67.931013</td>\n",
              "      <td>67.935109</td>\n",
              "      <td>67.941975</td>\n",
              "      <td>67.952242</td>\n",
              "      <td>67.964032</td>\n",
              "      <td>67.979312</td>\n",
              "      <td>67.996334</td>\n",
              "      <td>68.016251</td>\n",
              "      <td>68.037384</td>\n",
              "      <td>68.060291</td>\n",
              "      <td>68.08701</td>\n",
              "      <td>68.117939</td>\n",
              "      <td>68.152681</td>\n",
              "      <td>68.192530</td>\n",
              "      <td>68.236590</td>\n",
              "      <td>68.285409</td>\n",
              "      <td>68.338852</td>\n",
              "      <td>68.398002</td>\n",
              "      <td>68.463438</td>\n",
              "      <td>68.537113</td>\n",
              "      <td>68.621170</td>\n",
              "      <td>68.714865</td>\n",
              "      <td>68.820048</td>\n",
              "      <td>68.940426</td>\n",
              "      <td>69.075958</td>\n",
              "      <td>69.230245</td>\n",
              "      <td>69.404528</td>\n",
              "      <td>69.604267</td>\n",
              "      <td>69.833135</td>\n",
              "    </tr>\n",
              "    <tr>\n",
              "      <th>min</th>\n",
              "      <td>23.000000</td>\n",
              "      <td>23.000000</td>\n",
              "      <td>23.000000</td>\n",
              "      <td>23.000000</td>\n",
              "      <td>23.000000</td>\n",
              "      <td>23.000000</td>\n",
              "      <td>23.000000</td>\n",
              "      <td>23.000000</td>\n",
              "      <td>23.000000</td>\n",
              "      <td>23.000000</td>\n",
              "      <td>23.000000</td>\n",
              "      <td>23.000000</td>\n",
              "      <td>23.000000</td>\n",
              "      <td>23.000000</td>\n",
              "      <td>23.000000</td>\n",
              "      <td>23.000000</td>\n",
              "      <td>23.000000</td>\n",
              "      <td>23.000000</td>\n",
              "      <td>23.000000</td>\n",
              "      <td>23.000000</td>\n",
              "      <td>23.000000</td>\n",
              "      <td>23.000000</td>\n",
              "      <td>23.000000</td>\n",
              "      <td>23.000000</td>\n",
              "      <td>23.000000</td>\n",
              "      <td>23.000000</td>\n",
              "      <td>23.000000</td>\n",
              "      <td>23.000000</td>\n",
              "      <td>23.000000</td>\n",
              "      <td>23.000000</td>\n",
              "      <td>23.000000</td>\n",
              "      <td>23.000000</td>\n",
              "      <td>23.000000</td>\n",
              "      <td>23.000000</td>\n",
              "      <td>23.000000</td>\n",
              "      <td>23.000000</td>\n",
              "      <td>23.00000</td>\n",
              "      <td>23.000000</td>\n",
              "      <td>23.000000</td>\n",
              "      <td>23.000000</td>\n",
              "      <td>23.000000</td>\n",
              "      <td>23.000000</td>\n",
              "      <td>23.000000</td>\n",
              "      <td>23.000000</td>\n",
              "      <td>23.000000</td>\n",
              "      <td>23.000000</td>\n",
              "      <td>23.000000</td>\n",
              "      <td>23.000000</td>\n",
              "      <td>23.000000</td>\n",
              "      <td>23.000000</td>\n",
              "      <td>23.000000</td>\n",
              "      <td>23.000000</td>\n",
              "      <td>23.000000</td>\n",
              "      <td>23.000000</td>\n",
              "      <td>23.000000</td>\n",
              "    </tr>\n",
              "    <tr>\n",
              "      <th>25%</th>\n",
              "      <td>108.000000</td>\n",
              "      <td>108.000000</td>\n",
              "      <td>108.000000</td>\n",
              "      <td>108.000000</td>\n",
              "      <td>108.000000</td>\n",
              "      <td>108.000000</td>\n",
              "      <td>108.000000</td>\n",
              "      <td>108.000000</td>\n",
              "      <td>108.000000</td>\n",
              "      <td>108.000000</td>\n",
              "      <td>108.000000</td>\n",
              "      <td>108.000000</td>\n",
              "      <td>108.000000</td>\n",
              "      <td>108.000000</td>\n",
              "      <td>108.000000</td>\n",
              "      <td>108.000000</td>\n",
              "      <td>108.000000</td>\n",
              "      <td>108.000000</td>\n",
              "      <td>107.000000</td>\n",
              "      <td>107.000000</td>\n",
              "      <td>107.000000</td>\n",
              "      <td>107.000000</td>\n",
              "      <td>107.000000</td>\n",
              "      <td>107.000000</td>\n",
              "      <td>107.000000</td>\n",
              "      <td>107.000000</td>\n",
              "      <td>107.000000</td>\n",
              "      <td>107.000000</td>\n",
              "      <td>107.000000</td>\n",
              "      <td>107.000000</td>\n",
              "      <td>107.000000</td>\n",
              "      <td>107.000000</td>\n",
              "      <td>107.000000</td>\n",
              "      <td>107.000000</td>\n",
              "      <td>107.000000</td>\n",
              "      <td>107.000000</td>\n",
              "      <td>107.00000</td>\n",
              "      <td>107.000000</td>\n",
              "      <td>107.000000</td>\n",
              "      <td>107.000000</td>\n",
              "      <td>107.000000</td>\n",
              "      <td>107.000000</td>\n",
              "      <td>107.000000</td>\n",
              "      <td>107.000000</td>\n",
              "      <td>107.000000</td>\n",
              "      <td>107.000000</td>\n",
              "      <td>107.000000</td>\n",
              "      <td>107.000000</td>\n",
              "      <td>107.000000</td>\n",
              "      <td>107.000000</td>\n",
              "      <td>107.000000</td>\n",
              "      <td>107.000000</td>\n",
              "      <td>107.000000</td>\n",
              "      <td>107.000000</td>\n",
              "      <td>107.000000</td>\n",
              "    </tr>\n",
              "    <tr>\n",
              "      <th>50%</th>\n",
              "      <td>144.000000</td>\n",
              "      <td>144.000000</td>\n",
              "      <td>144.000000</td>\n",
              "      <td>144.000000</td>\n",
              "      <td>144.000000</td>\n",
              "      <td>144.000000</td>\n",
              "      <td>144.000000</td>\n",
              "      <td>144.000000</td>\n",
              "      <td>144.000000</td>\n",
              "      <td>144.000000</td>\n",
              "      <td>144.000000</td>\n",
              "      <td>143.000000</td>\n",
              "      <td>143.000000</td>\n",
              "      <td>143.000000</td>\n",
              "      <td>143.000000</td>\n",
              "      <td>143.000000</td>\n",
              "      <td>143.000000</td>\n",
              "      <td>143.000000</td>\n",
              "      <td>143.000000</td>\n",
              "      <td>143.000000</td>\n",
              "      <td>143.000000</td>\n",
              "      <td>143.000000</td>\n",
              "      <td>143.000000</td>\n",
              "      <td>143.000000</td>\n",
              "      <td>143.000000</td>\n",
              "      <td>143.000000</td>\n",
              "      <td>143.000000</td>\n",
              "      <td>143.000000</td>\n",
              "      <td>143.000000</td>\n",
              "      <td>143.000000</td>\n",
              "      <td>143.000000</td>\n",
              "      <td>143.000000</td>\n",
              "      <td>143.000000</td>\n",
              "      <td>143.000000</td>\n",
              "      <td>143.000000</td>\n",
              "      <td>143.000000</td>\n",
              "      <td>143.00000</td>\n",
              "      <td>143.000000</td>\n",
              "      <td>143.000000</td>\n",
              "      <td>143.000000</td>\n",
              "      <td>143.000000</td>\n",
              "      <td>143.000000</td>\n",
              "      <td>143.000000</td>\n",
              "      <td>143.000000</td>\n",
              "      <td>143.000000</td>\n",
              "      <td>143.000000</td>\n",
              "      <td>143.000000</td>\n",
              "      <td>143.000000</td>\n",
              "      <td>143.000000</td>\n",
              "      <td>143.000000</td>\n",
              "      <td>143.000000</td>\n",
              "      <td>143.000000</td>\n",
              "      <td>143.000000</td>\n",
              "      <td>143.000000</td>\n",
              "      <td>143.000000</td>\n",
              "    </tr>\n",
              "    <tr>\n",
              "      <th>75%</th>\n",
              "      <td>203.000000</td>\n",
              "      <td>203.000000</td>\n",
              "      <td>203.000000</td>\n",
              "      <td>203.000000</td>\n",
              "      <td>203.000000</td>\n",
              "      <td>203.000000</td>\n",
              "      <td>203.000000</td>\n",
              "      <td>203.000000</td>\n",
              "      <td>203.000000</td>\n",
              "      <td>202.000000</td>\n",
              "      <td>202.000000</td>\n",
              "      <td>202.000000</td>\n",
              "      <td>202.000000</td>\n",
              "      <td>202.000000</td>\n",
              "      <td>202.000000</td>\n",
              "      <td>202.000000</td>\n",
              "      <td>202.000000</td>\n",
              "      <td>202.000000</td>\n",
              "      <td>202.000000</td>\n",
              "      <td>202.000000</td>\n",
              "      <td>202.000000</td>\n",
              "      <td>202.000000</td>\n",
              "      <td>201.000000</td>\n",
              "      <td>201.000000</td>\n",
              "      <td>201.000000</td>\n",
              "      <td>201.000000</td>\n",
              "      <td>201.000000</td>\n",
              "      <td>201.000000</td>\n",
              "      <td>201.000000</td>\n",
              "      <td>201.000000</td>\n",
              "      <td>201.000000</td>\n",
              "      <td>201.000000</td>\n",
              "      <td>201.000000</td>\n",
              "      <td>201.000000</td>\n",
              "      <td>201.000000</td>\n",
              "      <td>201.000000</td>\n",
              "      <td>201.00000</td>\n",
              "      <td>202.000000</td>\n",
              "      <td>202.000000</td>\n",
              "      <td>202.000000</td>\n",
              "      <td>202.000000</td>\n",
              "      <td>202.000000</td>\n",
              "      <td>202.000000</td>\n",
              "      <td>202.000000</td>\n",
              "      <td>202.000000</td>\n",
              "      <td>202.000000</td>\n",
              "      <td>202.000000</td>\n",
              "      <td>202.000000</td>\n",
              "      <td>202.000000</td>\n",
              "      <td>202.000000</td>\n",
              "      <td>202.000000</td>\n",
              "      <td>202.000000</td>\n",
              "      <td>203.000000</td>\n",
              "      <td>203.000000</td>\n",
              "      <td>203.000000</td>\n",
              "    </tr>\n",
              "    <tr>\n",
              "      <th>max</th>\n",
              "      <td>400.000000</td>\n",
              "      <td>399.000000</td>\n",
              "      <td>399.000000</td>\n",
              "      <td>399.000000</td>\n",
              "      <td>399.000000</td>\n",
              "      <td>399.000000</td>\n",
              "      <td>399.000000</td>\n",
              "      <td>399.000000</td>\n",
              "      <td>399.000000</td>\n",
              "      <td>399.000000</td>\n",
              "      <td>399.000000</td>\n",
              "      <td>399.000000</td>\n",
              "      <td>399.000000</td>\n",
              "      <td>399.000000</td>\n",
              "      <td>399.000000</td>\n",
              "      <td>399.000000</td>\n",
              "      <td>399.000000</td>\n",
              "      <td>399.000000</td>\n",
              "      <td>399.000000</td>\n",
              "      <td>399.000000</td>\n",
              "      <td>399.000000</td>\n",
              "      <td>399.000000</td>\n",
              "      <td>399.000000</td>\n",
              "      <td>399.000000</td>\n",
              "      <td>399.000000</td>\n",
              "      <td>399.000000</td>\n",
              "      <td>399.000000</td>\n",
              "      <td>399.000000</td>\n",
              "      <td>399.000000</td>\n",
              "      <td>399.000000</td>\n",
              "      <td>399.000000</td>\n",
              "      <td>399.000000</td>\n",
              "      <td>400.000000</td>\n",
              "      <td>400.000000</td>\n",
              "      <td>400.000000</td>\n",
              "      <td>400.000000</td>\n",
              "      <td>400.00000</td>\n",
              "      <td>400.000000</td>\n",
              "      <td>400.000000</td>\n",
              "      <td>400.000000</td>\n",
              "      <td>400.000000</td>\n",
              "      <td>400.000000</td>\n",
              "      <td>400.000000</td>\n",
              "      <td>400.000000</td>\n",
              "      <td>400.000000</td>\n",
              "      <td>400.000000</td>\n",
              "      <td>400.000000</td>\n",
              "      <td>400.000000</td>\n",
              "      <td>400.000000</td>\n",
              "      <td>400.000000</td>\n",
              "      <td>400.000000</td>\n",
              "      <td>400.000000</td>\n",
              "      <td>400.000000</td>\n",
              "      <td>400.000000</td>\n",
              "      <td>400.000000</td>\n",
              "    </tr>\n",
              "  </tbody>\n",
              "</table>\n",
              "</div>"
            ],
            "text/plain": [
              "                   t             t1  ...            t53            t54\n",
              "count  351524.000000  351524.000000  ...  351524.000000  351524.000000\n",
              "mean      161.789309     161.681538  ...     161.327622     161.431083\n",
              "std        69.821229      69.584393  ...      69.604267      69.833135\n",
              "min        23.000000      23.000000  ...      23.000000      23.000000\n",
              "25%       108.000000     108.000000  ...     107.000000     107.000000\n",
              "50%       144.000000     144.000000  ...     143.000000     143.000000\n",
              "75%       203.000000     203.000000  ...     203.000000     203.000000\n",
              "max       400.000000     399.000000  ...     400.000000     400.000000\n",
              "\n",
              "[8 rows x 55 columns]"
            ]
          },
          "metadata": {},
          "execution_count": 11
        }
      ]
    },
    {
      "cell_type": "code",
      "metadata": {
        "id": "LD7BC3p9MOeA"
      },
      "source": [
        "from sklearn.model_selection import cross_val_score\n",
        "from sklearn.preprocessing import MinMaxScaler\n",
        "from sklearn.preprocessing import StandardScaler\n",
        "from sklearn.neural_network import MLPClassifier\n",
        "\n",
        "X_train = initialTrainingSet.drop(['t48', 't49', 't50', 't51', 't52', 't53', 't54'], axis=1)\n",
        "y_train = initialTrainingSet[['t48', 't49', 't50', 't51', 't52', 't53', 't54']]\n",
        "\n",
        "X_test = initialTestSet.drop(['t48', 't49', 't50', 't51', 't52', 't53', 't54'], axis=1)\n",
        "y_test = initialTestSet[['t48', 't49', 't50', 't51', 't52', 't53', 't54']]"
      ],
      "execution_count": 10,
      "outputs": []
    },
    {
      "cell_type": "markdown",
      "metadata": {
        "id": "p0CKvVeeaiG5"
      },
      "source": [
        "Labels to be used for single step prediction."
      ]
    },
    {
      "cell_type": "code",
      "metadata": {
        "id": "M1gU59W4ZLie"
      },
      "source": [
        "y_train_single_step = initialTrainingSet['t54']\n",
        "y_test_single_step = initialTestSet['t54']"
      ],
      "execution_count": 79,
      "outputs": []
    },
    {
      "cell_type": "markdown",
      "metadata": {
        "id": "nkVYqO5Var3E"
      },
      "source": [
        "The train and test input were "
      ]
    },
    {
      "cell_type": "code",
      "metadata": {
        "id": "v2Fq2HqjPTER"
      },
      "source": [
        "#scaling = MinMaxScaler(feature_range=(-1, 1)).fit(X_train)\n",
        "scaling = StandardScaler().fit(X_train)\n",
        "X_train = scaling.transform(X_train)\n",
        "X_test = scaling.transform(X_test)"
      ],
      "execution_count": 11,
      "outputs": []
    },
    {
      "cell_type": "code",
      "metadata": {
        "id": "USk7tvfObB2i"
      },
      "source": [
        "from sklearn.utils import shuffle\n",
        "X_train, y_train = shuffle(X_train, y_train, random_state=0)"
      ],
      "execution_count": 12,
      "outputs": []
    },
    {
      "cell_type": "code",
      "metadata": {
        "id": "FgvO06kdY0Es"
      },
      "source": [
        "y_train_single_step = shuffle(y_train_single_step, random_state=0)"
      ],
      "execution_count": 81,
      "outputs": []
    },
    {
      "cell_type": "code",
      "metadata": {
        "id": "KI-KIqr7brRE"
      },
      "source": [
        ""
      ],
      "execution_count": null,
      "outputs": []
    },
    {
      "cell_type": "code",
      "metadata": {
        "id": "MUMuRyBUbqzF"
      },
      "source": [
        ""
      ],
      "execution_count": null,
      "outputs": []
    },
    {
      "cell_type": "markdown",
      "metadata": {
        "id": "tIsUN6wgbvCr"
      },
      "source": [
        "Ulitlity Functions to train models and visualise data."
      ]
    },
    {
      "cell_type": "code",
      "metadata": {
        "id": "ceDsnTFoYz9A"
      },
      "source": [
        "import os\n",
        "import datetime\n",
        "\n",
        "import IPython\n",
        "import IPython.display\n",
        "import matplotlib as mpl\n",
        "import matplotlib.pyplot as plt\n",
        "import numpy as np\n",
        "import pandas as pd\n",
        "import seaborn as sns\n",
        "import tensorflow as tf\n",
        "\n",
        "mpl.rcParams['figure.figsize'] = (8, 6)\n",
        "mpl.rcParams['axes.grid'] = False"
      ],
      "execution_count": 13,
      "outputs": []
    },
    {
      "cell_type": "code",
      "metadata": {
        "id": "R4rnNhVcuwUT"
      },
      "source": [
        "MAX_EPOCHS = 40\n",
        "\n",
        "def my_metric_fn(y_true, y_pred):\n",
        "    squared_difference = tf.square(tf.gather(y_true, indices=[6], axis=1) - tf.gather(y_pred, indices=[6], axis=1))\n",
        "    return tf.reduce_mean(squared_difference, axis=-1)\n",
        "\n",
        "\n",
        "def compile_and_fit(model, X_train, y_train, patience=2):\n",
        "  early_stopping = tf.keras.callbacks.EarlyStopping(monitor='val_loss',\n",
        "                                                    patience=patience,\n",
        "                                                    mode='min')\n",
        "\n",
        "  model.compile(loss=tf.losses.MeanSquaredError(),\n",
        "                optimizer=tf.optimizers.Adam(),\n",
        "                metrics=[tf.metrics.MeanAbsoluteError(), my_metric_fn])\n",
        "\n",
        "  history = model.fit(X_train, y_train, epochs=MAX_EPOCHS,\n",
        "                      batch_size=256, verbose=1, validation_split=0.2,\n",
        "                      callbacks=[early_stopping])\n",
        "  return history"
      ],
      "execution_count": 14,
      "outputs": []
    },
    {
      "cell_type": "code",
      "metadata": {
        "id": "o2_nUW0iuwLR"
      },
      "source": [
        "def plot(model=None, max_subplots=3):\n",
        "  inputs = X_test\n",
        "  inputs_to_display = scaling.inverse_transform(X_test)\n",
        "  labels = y_test\n",
        "  #print(y_test)\n",
        "  plt.figure(figsize=(12, 8))\n",
        "  max_n = min(max_subplots, len(inputs))\n",
        "  total_window_size = 55\n",
        "  label_width = 7\n",
        "  input_slice = slice(0, 48)\n",
        "  input_indices = np.arange(total_window_size)[input_slice]\n",
        "\n",
        "  labels_slice = slice(48, None)\n",
        "  label_indices = np.arange(total_window_size)[labels_slice]\n",
        "  x=100\n",
        "  for n in range(max_n):\n",
        "    plt.subplot(max_n, 1, n+1)\n",
        "    plt.ylabel('Sensor Reading')\n",
        "    #print(inputs_to_display[n, :])\n",
        "    plt.plot(input_indices, inputs_to_display[n+x, :],\n",
        "             label='Inputs', marker='.', zorder=-10)\n",
        "\n",
        "    #print(n)\n",
        "    #print(y_test.iloc[n, :])\n",
        "    plt.scatter(label_indices, labels.iloc[n+x, :].tolist(),\n",
        "                edgecolors='k', label='Labels', c='#2ca02c', s=64)\n",
        "    if model is not None:\n",
        "      #print(inputs[n+x, :])\n",
        "      predictions = model(np.expand_dims(inputs[n+x, :], axis=0))\n",
        "      plt.scatter(label_indices, predictions[0, :],\n",
        "                  marker='X', edgecolors='k', label='Predictions',\n",
        "                  c='#ff7f0e', s=64)\n",
        "\n",
        "    if n == 0:\n",
        "      plt.legend()\n",
        "\n",
        "    x=x+100\n",
        "\n",
        "  plt.xlabel('Time [h]')"
      ],
      "execution_count": 15,
      "outputs": []
    },
    {
      "cell_type": "code",
      "metadata": {
        "id": "9H8_Sn6Pb73V"
      },
      "source": [
        "def visualize_loss(history, title):\n",
        "    loss = history.history[\"loss\"]\n",
        "    val_loss = history.history[\"val_loss\"]\n",
        "    epochs = range(len(loss))\n",
        "    plt.figure()\n",
        "    plt.plot(epochs, loss, \"b\", label=\"Training loss\")\n",
        "    plt.plot(epochs, val_loss, \"r\", label=\"Validation loss\")\n",
        "    plt.title(title)\n",
        "    plt.xlabel(\"Epochs\")\n",
        "    plt.ylabel(\"Loss\")\n",
        "    plt.legend()\n",
        "    plt.show()"
      ],
      "execution_count": 16,
      "outputs": []
    },
    {
      "cell_type": "code",
      "metadata": {
        "id": "Nv9CG6g5uwHI"
      },
      "source": [
        "OUT_STEPS = 7\n",
        "multi_performance = {}"
      ],
      "execution_count": 17,
      "outputs": []
    },
    {
      "cell_type": "code",
      "metadata": {
        "id": "Ubs0BtbDMXyx"
      },
      "source": [
        ""
      ],
      "execution_count": null,
      "outputs": []
    },
    {
      "cell_type": "code",
      "metadata": {
        "id": "6W6UDbc-MXop"
      },
      "source": [
        ""
      ],
      "execution_count": null,
      "outputs": []
    },
    {
      "cell_type": "markdown",
      "metadata": {
        "id": "ZI4j_lRpb7Tl"
      },
      "source": [
        "# **Single Step Models**\n",
        "The models in this case directly try to predict the '**t54**' datapoint (target variable 30 mins into future) based on the given 4 hours of sensor data."
      ]
    },
    {
      "cell_type": "markdown",
      "metadata": {
        "id": "ZtSTYEDWcxv1"
      },
      "source": [
        "## **1. Neural Network (with 2 Hidden Layer)**\n",
        "\n",
        "Hidden Layer = (128, 64)"
      ]
    },
    {
      "cell_type": "code",
      "metadata": {
        "colab": {
          "base_uri": "https://localhost:8080/"
        },
        "id": "UOWL46EeY0Q8",
        "outputId": "5ca29c0e-eea9-4f07-8af0-189665f87d9a"
      },
      "source": [
        "from tensorflow.keras.models import Sequential\n",
        "from tensorflow.keras.layers import Dense\n",
        "\n",
        "input_shape = (48,)\n",
        "print(f'Feature shape: {input_shape}')\n",
        "\n",
        "model = Sequential()\n",
        "model.add(Dense(128, input_shape=input_shape, activation='relu'))\n",
        "model.add(Dense(64, activation='relu'))\n",
        "model.add(Dense(1, activation='linear'))\n",
        "\n",
        "model.compile(loss='mean_squared_error', optimizer='adam', metrics=['mean_squared_error'])\n",
        "history = model.fit(X_train, y_train_single_step, epochs=40, batch_size=256, verbose=1, validation_split=0.2)"
      ],
      "execution_count": null,
      "outputs": [
        {
          "output_type": "stream",
          "name": "stdout",
          "text": [
            "Feature shape: (48,)\n",
            "Epoch 1/40\n",
            "4610/4610 [==============================] - 20s 4ms/step - loss: 1642.3365 - mean_squared_error: 1642.3365 - val_loss: 878.6194 - val_mean_squared_error: 878.6194\n",
            "Epoch 2/40\n",
            "4610/4610 [==============================] - 19s 4ms/step - loss: 869.8815 - mean_squared_error: 869.8815 - val_loss: 859.8989 - val_mean_squared_error: 859.8989\n",
            "Epoch 3/40\n",
            "4610/4610 [==============================] - 19s 4ms/step - loss: 856.8510 - mean_squared_error: 856.8510 - val_loss: 839.8617 - val_mean_squared_error: 839.8617\n",
            "Epoch 4/40\n",
            "4610/4610 [==============================] - 19s 4ms/step - loss: 837.4255 - mean_squared_error: 837.4255 - val_loss: 830.7698 - val_mean_squared_error: 830.7698\n",
            "Epoch 5/40\n",
            "4610/4610 [==============================] - 18s 4ms/step - loss: 822.6815 - mean_squared_error: 822.6815 - val_loss: 811.4662 - val_mean_squared_error: 811.4662\n",
            "Epoch 6/40\n",
            "4610/4610 [==============================] - 19s 4ms/step - loss: 814.0458 - mean_squared_error: 814.0458 - val_loss: 819.7811 - val_mean_squared_error: 819.7811\n",
            "Epoch 7/40\n",
            "4610/4610 [==============================] - 18s 4ms/step - loss: 806.7075 - mean_squared_error: 806.7075 - val_loss: 813.2911 - val_mean_squared_error: 813.2911\n",
            "Epoch 8/40\n",
            "4610/4610 [==============================] - 18s 4ms/step - loss: 801.5622 - mean_squared_error: 801.5622 - val_loss: 823.5423 - val_mean_squared_error: 823.5423\n",
            "Epoch 9/40\n",
            "4610/4610 [==============================] - 19s 4ms/step - loss: 798.1954 - mean_squared_error: 798.1954 - val_loss: 811.8237 - val_mean_squared_error: 811.8237\n",
            "Epoch 10/40\n",
            "4610/4610 [==============================] - 18s 4ms/step - loss: 794.5510 - mean_squared_error: 794.5510 - val_loss: 785.5342 - val_mean_squared_error: 785.5342\n",
            "Epoch 11/40\n",
            "4610/4610 [==============================] - 18s 4ms/step - loss: 792.1104 - mean_squared_error: 792.1104 - val_loss: 782.0183 - val_mean_squared_error: 782.0183\n",
            "Epoch 12/40\n",
            "4610/4610 [==============================] - 18s 4ms/step - loss: 790.2977 - mean_squared_error: 790.2977 - val_loss: 791.8517 - val_mean_squared_error: 791.8517\n",
            "Epoch 13/40\n",
            "4610/4610 [==============================] - 18s 4ms/step - loss: 788.9093 - mean_squared_error: 788.9093 - val_loss: 780.1808 - val_mean_squared_error: 780.1808\n",
            "Epoch 14/40\n",
            "4610/4610 [==============================] - 19s 4ms/step - loss: 787.1681 - mean_squared_error: 787.1681 - val_loss: 785.6115 - val_mean_squared_error: 785.6115\n",
            "Epoch 15/40\n",
            "4610/4610 [==============================] - 19s 4ms/step - loss: 786.2903 - mean_squared_error: 786.2903 - val_loss: 783.2994 - val_mean_squared_error: 783.2994\n",
            "Epoch 16/40\n",
            "4610/4610 [==============================] - 19s 4ms/step - loss: 785.3546 - mean_squared_error: 785.3546 - val_loss: 789.8720 - val_mean_squared_error: 789.8720\n",
            "Epoch 17/40\n",
            "4610/4610 [==============================] - 19s 4ms/step - loss: 782.9986 - mean_squared_error: 782.9986 - val_loss: 798.6748 - val_mean_squared_error: 798.6748\n",
            "Epoch 18/40\n",
            "4610/4610 [==============================] - 18s 4ms/step - loss: 782.9354 - mean_squared_error: 782.9354 - val_loss: 778.6954 - val_mean_squared_error: 778.6954\n",
            "Epoch 19/40\n",
            "4610/4610 [==============================] - 18s 4ms/step - loss: 782.1285 - mean_squared_error: 782.1285 - val_loss: 773.2559 - val_mean_squared_error: 773.2559\n",
            "Epoch 20/40\n",
            "4610/4610 [==============================] - 18s 4ms/step - loss: 781.2924 - mean_squared_error: 781.2924 - val_loss: 794.0099 - val_mean_squared_error: 794.0099\n",
            "Epoch 21/40\n",
            "4610/4610 [==============================] - 18s 4ms/step - loss: 780.7925 - mean_squared_error: 780.7925 - val_loss: 770.9691 - val_mean_squared_error: 770.9691\n",
            "Epoch 22/40\n",
            "4610/4610 [==============================] - 17s 4ms/step - loss: 779.5508 - mean_squared_error: 779.5508 - val_loss: 781.8944 - val_mean_squared_error: 781.8944\n",
            "Epoch 23/40\n",
            "4610/4610 [==============================] - 19s 4ms/step - loss: 778.7936 - mean_squared_error: 778.7936 - val_loss: 785.3589 - val_mean_squared_error: 785.3589\n",
            "Epoch 24/40\n",
            "4610/4610 [==============================] - 18s 4ms/step - loss: 778.5363 - mean_squared_error: 778.5363 - val_loss: 780.5574 - val_mean_squared_error: 780.5574\n",
            "Epoch 25/40\n",
            "4610/4610 [==============================] - 18s 4ms/step - loss: 777.4083 - mean_squared_error: 777.4083 - val_loss: 770.4982 - val_mean_squared_error: 770.4982\n",
            "Epoch 26/40\n",
            "4610/4610 [==============================] - 18s 4ms/step - loss: 777.1848 - mean_squared_error: 777.1848 - val_loss: 799.4685 - val_mean_squared_error: 799.4685\n",
            "Epoch 27/40\n",
            "4610/4610 [==============================] - 19s 4ms/step - loss: 776.5641 - mean_squared_error: 776.5641 - val_loss: 781.8525 - val_mean_squared_error: 781.8525\n",
            "Epoch 28/40\n",
            "4610/4610 [==============================] - 18s 4ms/step - loss: 776.3970 - mean_squared_error: 776.3970 - val_loss: 791.6003 - val_mean_squared_error: 791.6003\n",
            "Epoch 29/40\n",
            "4610/4610 [==============================] - 18s 4ms/step - loss: 776.0431 - mean_squared_error: 776.0431 - val_loss: 802.3414 - val_mean_squared_error: 802.3414\n",
            "Epoch 30/40\n",
            "4610/4610 [==============================] - 17s 4ms/step - loss: 774.5282 - mean_squared_error: 774.5282 - val_loss: 789.7043 - val_mean_squared_error: 789.7043\n",
            "Epoch 31/40\n",
            "4610/4610 [==============================] - 18s 4ms/step - loss: 774.7523 - mean_squared_error: 774.7523 - val_loss: 766.8848 - val_mean_squared_error: 766.8848\n",
            "Epoch 32/40\n",
            "4610/4610 [==============================] - 17s 4ms/step - loss: 774.6786 - mean_squared_error: 774.6786 - val_loss: 800.1857 - val_mean_squared_error: 800.1857\n",
            "Epoch 33/40\n",
            "4610/4610 [==============================] - 18s 4ms/step - loss: 773.8658 - mean_squared_error: 773.8658 - val_loss: 768.0723 - val_mean_squared_error: 768.0723\n",
            "Epoch 34/40\n",
            "4610/4610 [==============================] - 18s 4ms/step - loss: 773.4598 - mean_squared_error: 773.4598 - val_loss: 769.5659 - val_mean_squared_error: 769.5659\n",
            "Epoch 35/40\n",
            "4610/4610 [==============================] - 19s 4ms/step - loss: 773.3397 - mean_squared_error: 773.3397 - val_loss: 768.3329 - val_mean_squared_error: 768.3329\n",
            "Epoch 36/40\n",
            "4610/4610 [==============================] - 18s 4ms/step - loss: 773.2078 - mean_squared_error: 773.2078 - val_loss: 790.2197 - val_mean_squared_error: 790.2197\n",
            "Epoch 37/40\n",
            "4610/4610 [==============================] - 18s 4ms/step - loss: 772.3289 - mean_squared_error: 772.3289 - val_loss: 768.6194 - val_mean_squared_error: 768.6194\n",
            "Epoch 38/40\n",
            "4610/4610 [==============================] - 18s 4ms/step - loss: 771.7259 - mean_squared_error: 771.7259 - val_loss: 763.0407 - val_mean_squared_error: 763.0407\n",
            "Epoch 39/40\n",
            "4610/4610 [==============================] - 19s 4ms/step - loss: 771.9985 - mean_squared_error: 771.9985 - val_loss: 771.9982 - val_mean_squared_error: 771.9982\n",
            "Epoch 40/40\n",
            "4142/4610 [=========================>....] - ETA: 1s - loss: 771.5776 - mean_squared_error: 771.5776"
          ]
        }
      ]
    },
    {
      "cell_type": "code",
      "metadata": {
        "id": "iJgmF9eQY0Iq"
      },
      "source": [
        "score = model.evaluate(X_test, y_test_single_step, batch_size=256, verbose=1)\n",
        "print(f'Test loss: {score[0]} / Test accuracy: {score[1]}')"
      ],
      "execution_count": null,
      "outputs": []
    },
    {
      "cell_type": "code",
      "metadata": {
        "id": "rdqMKmwhMQuU"
      },
      "source": [
        "visualize_loss(history, \"Training and Validation Loss\")"
      ],
      "execution_count": null,
      "outputs": []
    },
    {
      "cell_type": "code",
      "metadata": {
        "id": "1P5X1SNRMfoK"
      },
      "source": [
        "inputs = X_test\n",
        "inputs_to_display = scaling.inverse_transform(X_test)\n",
        "labels = y_test\n",
        "#print(y_test)\n",
        "plt.figure(figsize=(12, 8))\n",
        "max_n = min(3, len(inputs))\n",
        "total_window_size = 55\n",
        "label_width = 7\n",
        "input_slice = slice(0, 48)\n",
        "input_indices = np.arange(total_window_size)[input_slice]\n",
        "\n",
        "labels_slice = slice(48, None)\n",
        "label_indices = np.arange(total_window_size)[labels_slice]\n",
        "\n",
        "labels_slice_pred = slice(54, None)\n",
        "label_indices_pred = np.arange(total_window_size)[labels_slice_pred]\n",
        "x=100\n",
        "for n in range(max_n):\n",
        "  plt.subplot(max_n, 1, n+1)\n",
        "  plt.ylabel('Sensor Reading')\n",
        "  #print(inputs_to_display[n, :])\n",
        "  plt.plot(input_indices, inputs_to_display[n+x, :],\n",
        "            label='Inputs', marker='.', zorder=-10)\n",
        "\n",
        "  #print(n)\n",
        "  #print(y_test.iloc[n, :])\n",
        "  plt.scatter(label_indices, labels.iloc[n+x, :].tolist(),\n",
        "              edgecolors='k', label='Labels', c='#2ca02c', s=64)\n",
        "  if model is not None:\n",
        "    #print(inputs[n+x, :])\n",
        "    predictions = model(np.expand_dims(inputs[n+x, :], axis=0))\n",
        "    plt.scatter(label_indices_pred, predictions[0],\n",
        "                marker='X', edgecolors='k', label='Predictions',\n",
        "                c='#ff7f0e', s=64)\n",
        "\n",
        "  if n == 0:\n",
        "    plt.legend()\n",
        "\n",
        "  x=x+100\n",
        "\n",
        "plt.xlabel('Time [h]')"
      ],
      "execution_count": null,
      "outputs": []
    },
    {
      "cell_type": "code",
      "metadata": {
        "id": "ZR9I9hzhMfVb"
      },
      "source": [
        ""
      ],
      "execution_count": null,
      "outputs": []
    },
    {
      "cell_type": "code",
      "metadata": {
        "id": "8haFszwBMQkz"
      },
      "source": [
        ""
      ],
      "execution_count": null,
      "outputs": []
    },
    {
      "cell_type": "code",
      "metadata": {
        "id": "HM1BmfBWMQUo"
      },
      "source": [
        ""
      ],
      "execution_count": null,
      "outputs": []
    },
    {
      "cell_type": "code",
      "metadata": {
        "id": "3HHa27BLuv-_"
      },
      "source": [
        "\n",
        "multi_linear_model = tf.keras.Sequential([\n",
        "    \n",
        "    tf.keras.layers.Dense(OUT_STEPS,\n",
        "                          kernel_initializer=tf.initializers.zeros()),\n",
        "])\n",
        "\n",
        "history = compile_and_fit(multi_linear_model, X_train, y_train)\n"
      ],
      "execution_count": 55,
      "outputs": []
    },
    {
      "cell_type": "code",
      "metadata": {
        "colab": {
          "base_uri": "https://localhost:8080/"
        },
        "id": "-smr5IC7dHPf",
        "outputId": "d7e81947-e2fa-42bb-ca97-33f16b9b0cad"
      },
      "source": [
        "multi_performance['Linear'] = multi_linear_model.evaluate(X_test, y_test, batch_size=256, verbose=1)"
      ],
      "execution_count": 56,
      "outputs": [
        {
          "output_type": "stream",
          "name": "stdout",
          "text": [
            "1281/1281 [==============================] - 4s 3ms/step - loss: 497.0532 - mean_absolute_error: 14.1865 - my_metric_fn: 1056.1920\n"
          ]
        }
      ]
    },
    {
      "cell_type": "code",
      "metadata": {
        "colab": {
          "base_uri": "https://localhost:8080/",
          "height": 404
        },
        "id": "rCjYVYW4GK5Y",
        "outputId": "f9589677-1da3-4e69-cd75-33ab77bc11d6"
      },
      "source": [
        "visualize_loss(history, \"Training and Validation Loss\")"
      ],
      "execution_count": 57,
      "outputs": [
        {
          "output_type": "display_data",
          "data": {
            "image/png": "[encoded data removed]",
            "text/plain": [
              "<Figure size 576x432 with 1 Axes>"
            ]
          },
          "metadata": {
            "needs_background": "light"
          }
        }
      ]
    },
    {
      "cell_type": "code",
      "metadata": {
        "colab": {
          "base_uri": "https://localhost:8080/",
          "height": 497
        },
        "id": "DG_aL5q-GaDW",
        "outputId": "611a1eed-4ad7-4b9e-ccb1-de98952d1700"
      },
      "source": [
        "plot(multi_linear_model)"
      ],
      "execution_count": 58,
      "outputs": [
        {
          "output_type": "display_data",
          "data": {
            "image/png": "[encoded data removed]",
            "text/plain": [
              "<Figure size 864x576 with 3 Axes>"
            ]
          },
          "metadata": {
            "needs_background": "light"
          }
        }
      ]
    },
    {
      "cell_type": "code",
      "metadata": {
        "id": "-xB1364OGKiG"
      },
      "source": [
        ""
      ],
      "execution_count": null,
      "outputs": []
    },
    {
      "cell_type": "code",
      "metadata": {
        "id": "S9aqMcO8Yz5Z"
      },
      "source": [
        ""
      ],
      "execution_count": null,
      "outputs": []
    },
    {
      "cell_type": "code",
      "metadata": {
        "colab": {
          "base_uri": "https://localhost:8080/"
        },
        "id": "M164Y3ysYzzh",
        "outputId": "d8b8357c-5d6a-4b3f-aae0-236f4364bb97"
      },
      "source": [
        "multi_dense_model = tf.keras.Sequential([\n",
        "    tf.keras.layers.Dense(512, activation='relu'),\n",
        "    tf.keras.layers.Dense(OUT_STEPS,\n",
        "                          kernel_initializer=tf.initializers.zeros()),\n",
        "])\n",
        "\n",
        "history = compile_and_fit(multi_dense_model, X_train, y_train)"
      ],
      "execution_count": 59,
      "outputs": [
        {
          "output_type": "stream",
          "name": "stdout",
          "text": [
            "Epoch 1/40\n",
            "4610/4610 [==============================] - 21s 5ms/step - loss: 1607.5515 - mean_absolute_error: 22.9689 - my_metric_fn: 2115.2278 - val_loss: 413.4893 - val_mean_absolute_error: 12.6330 - val_my_metric_fn: 897.4294\n",
            "Epoch 2/40\n",
            "4610/4610 [==============================] - 20s 4ms/step - loss: 404.3452 - mean_absolute_error: 12.3534 - my_metric_fn: 885.4970 - val_loss: 411.6193 - val_mean_absolute_error: 12.8310 - val_my_metric_fn: 889.2846\n",
            "Epoch 3/40\n",
            "4610/4610 [==============================] - 20s 4ms/step - loss: 397.9862 - mean_absolute_error: 12.1489 - my_metric_fn: 874.5849 - val_loss: 404.3778 - val_mean_absolute_error: 12.2177 - val_my_metric_fn: 877.5179\n",
            "Epoch 4/40\n",
            "4610/4610 [==============================] - 20s 4ms/step - loss: 395.3290 - mean_absolute_error: 12.0665 - my_metric_fn: 869.6882 - val_loss: 392.8311 - val_mean_absolute_error: 11.9205 - val_my_metric_fn: 863.7107\n",
            "Epoch 5/40\n",
            "4610/4610 [==============================] - 20s 4ms/step - loss: 394.0126 - mean_absolute_error: 12.0369 - my_metric_fn: 867.2301 - val_loss: 394.0694 - val_mean_absolute_error: 11.8771 - val_my_metric_fn: 865.1869\n",
            "Epoch 6/40\n",
            "4610/4610 [==============================] - 20s 4ms/step - loss: 392.9903 - mean_absolute_error: 12.0120 - my_metric_fn: 865.4060 - val_loss: 391.8283 - val_mean_absolute_error: 11.9344 - val_my_metric_fn: 862.3862\n",
            "Epoch 7/40\n",
            "4610/4610 [==============================] - 20s 4ms/step - loss: 392.4253 - mean_absolute_error: 12.0010 - my_metric_fn: 864.2205 - val_loss: 391.2158 - val_mean_absolute_error: 11.9617 - val_my_metric_fn: 860.4795\n",
            "Epoch 8/40\n",
            "4610/4610 [==============================] - 20s 4ms/step - loss: 392.0262 - mean_absolute_error: 11.9916 - my_metric_fn: 863.5739 - val_loss: 392.3170 - val_mean_absolute_error: 12.0406 - val_my_metric_fn: 862.3315\n",
            "Epoch 9/40\n",
            "4610/4610 [==============================] - 20s 4ms/step - loss: 391.3348 - mean_absolute_error: 11.9684 - my_metric_fn: 862.4489 - val_loss: 390.7445 - val_mean_absolute_error: 11.9012 - val_my_metric_fn: 858.4547\n",
            "Epoch 10/40\n",
            "4610/4610 [==============================] - 20s 4ms/step - loss: 390.8257 - mean_absolute_error: 11.9589 - my_metric_fn: 861.6655 - val_loss: 392.5272 - val_mean_absolute_error: 12.0848 - val_my_metric_fn: 861.9016\n",
            "Epoch 11/40\n",
            "4610/4610 [==============================] - 20s 4ms/step - loss: 390.5826 - mean_absolute_error: 11.9532 - my_metric_fn: 861.2144 - val_loss: 392.0581 - val_mean_absolute_error: 12.0849 - val_my_metric_fn: 861.7826\n"
          ]
        }
      ]
    },
    {
      "cell_type": "code",
      "metadata": {
        "colab": {
          "base_uri": "https://localhost:8080/"
        },
        "id": "yR2Jci1adWbC",
        "outputId": "5c25d28f-3f41-472a-a128-d0b2675b4709"
      },
      "source": [
        "IPython.display.clear_output()\n",
        "multi_performance['Dense'] = multi_dense_model.evaluate(X_test, y_test, batch_size=256, verbose=1)"
      ],
      "execution_count": 60,
      "outputs": [
        {
          "output_type": "stream",
          "name": "stdout",
          "text": [
            "1281/1281 [==============================] - 4s 3ms/step - loss: 410.0877 - mean_absolute_error: 12.4108 - my_metric_fn: 916.4177\n"
          ]
        }
      ]
    },
    {
      "cell_type": "code",
      "metadata": {
        "id": "dTJFUTQrYzt4",
        "colab": {
          "base_uri": "https://localhost:8080/",
          "height": 404
        },
        "outputId": "d5f08fa8-710a-4728-ba2f-d1ca9f3dbf9c"
      },
      "source": [
        "visualize_loss(history, \"Training and Validation Loss\")"
      ],
      "execution_count": 61,
      "outputs": [
        {
          "output_type": "display_data",
          "data": {
            "image/png": "[encoded data removed]",
            "text/plain": [
              "<Figure size 576x432 with 1 Axes>"
            ]
          },
          "metadata": {
            "needs_background": "light"
          }
        }
      ]
    },
    {
      "cell_type": "code",
      "metadata": {
        "colab": {
          "base_uri": "https://localhost:8080/",
          "height": 497
        },
        "id": "2d1FiDkSGdXU",
        "outputId": "1798142c-cf8a-4068-f7a0-3ad0927e8342"
      },
      "source": [
        "plot(multi_dense_model)"
      ],
      "execution_count": 62,
      "outputs": [
        {
          "output_type": "display_data",
          "data": {
            "image/png": "[encoded data removed]",
            "text/plain": [
              "<Figure size 864x576 with 3 Axes>"
            ]
          },
          "metadata": {
            "needs_background": "light"
          }
        }
      ]
    },
    {
      "cell_type": "code",
      "metadata": {
        "id": "RqzjgFCgGcyf"
      },
      "source": [
        ""
      ],
      "execution_count": null,
      "outputs": []
    },
    {
      "cell_type": "code",
      "metadata": {
        "id": "HLoeLTrxGcci"
      },
      "source": [
        ""
      ],
      "execution_count": null,
      "outputs": []
    },
    {
      "cell_type": "code",
      "metadata": {
        "id": "GrC7bMf9oIxQ",
        "colab": {
          "base_uri": "https://localhost:8080/"
        },
        "outputId": "352c22c0-4663-4392-d690-396532ae3e8a"
      },
      "source": [
        "CONV_WIDTH = 3\n",
        "multi_conv_model = tf.keras.Sequential([\n",
        "    tf.keras.layers.Reshape((48, 1), input_shape=(48,)),                                   \n",
        "    tf.keras.layers.Lambda(lambda x: x[:, -CONV_WIDTH:, :]),\n",
        "    tf.keras.layers.Conv1D(256, activation='relu', kernel_size=(CONV_WIDTH)),\n",
        "    tf.keras.layers.Dense(OUT_STEPS,\n",
        "                          kernel_initializer=tf.initializers.zeros()),\n",
        "    tf.keras.layers.Reshape([OUT_STEPS, 1])\n",
        "])\n",
        "\n",
        "history = compile_and_fit(multi_conv_model, X_train, y_train)\n"
      ],
      "execution_count": 63,
      "outputs": [
        {
          "output_type": "stream",
          "name": "stdout",
          "text": [
            "Epoch 1/40\n",
            "4610/4610 [==============================] - 26s 5ms/step - loss: 2361.6943 - mean_absolute_error: 26.5405 - my_metric_fn: 2838.5698 - val_loss: 414.2028 - val_mean_absolute_error: 12.6115 - val_my_metric_fn: 900.9111\n",
            "Epoch 2/40\n",
            "4610/4610 [==============================] - 27s 6ms/step - loss: 407.0414 - mean_absolute_error: 12.4262 - my_metric_fn: 894.1439 - val_loss: 400.9245 - val_mean_absolute_error: 12.1284 - val_my_metric_fn: 883.5683\n",
            "Epoch 3/40\n",
            "4610/4610 [==============================] - 24s 5ms/step - loss: 397.1051 - mean_absolute_error: 12.0793 - my_metric_fn: 880.0674 - val_loss: 396.3439 - val_mean_absolute_error: 12.0471 - val_my_metric_fn: 875.4729\n",
            "Epoch 4/40\n",
            "4610/4610 [==============================] - 24s 5ms/step - loss: 394.5369 - mean_absolute_error: 11.9838 - my_metric_fn: 874.6573 - val_loss: 396.1009 - val_mean_absolute_error: 11.8731 - val_my_metric_fn: 873.2468\n",
            "Epoch 5/40\n",
            "4610/4610 [==============================] - 25s 5ms/step - loss: 393.4646 - mean_absolute_error: 11.9411 - my_metric_fn: 872.1511 - val_loss: 394.3584 - val_mean_absolute_error: 11.9001 - val_my_metric_fn: 870.1271\n",
            "Epoch 6/40\n",
            "4610/4610 [==============================] - 26s 6ms/step - loss: 393.0268 - mean_absolute_error: 11.9298 - my_metric_fn: 871.1068 - val_loss: 396.0674 - val_mean_absolute_error: 11.8825 - val_my_metric_fn: 871.3387\n",
            "Epoch 7/40\n",
            "4610/4610 [==============================] - 26s 6ms/step - loss: 392.6192 - mean_absolute_error: 11.9231 - my_metric_fn: 870.2537 - val_loss: 393.4485 - val_mean_absolute_error: 11.8730 - val_my_metric_fn: 868.5905\n",
            "Epoch 8/40\n",
            "4610/4610 [==============================] - 25s 5ms/step - loss: 392.2982 - mean_absolute_error: 11.9131 - my_metric_fn: 869.5165 - val_loss: 393.0558 - val_mean_absolute_error: 11.8838 - val_my_metric_fn: 867.9233\n",
            "Epoch 9/40\n",
            "4610/4610 [==============================] - 25s 5ms/step - loss: 392.0362 - mean_absolute_error: 11.9073 - my_metric_fn: 868.9441 - val_loss: 394.5737 - val_mean_absolute_error: 11.8623 - val_my_metric_fn: 868.7592\n",
            "Epoch 10/40\n",
            "4610/4610 [==============================] - 24s 5ms/step - loss: 391.7360 - mean_absolute_error: 11.9020 - my_metric_fn: 868.3712 - val_loss: 392.7802 - val_mean_absolute_error: 11.9103 - val_my_metric_fn: 867.4277\n",
            "Epoch 11/40\n",
            "4610/4610 [==============================] - 24s 5ms/step - loss: 391.5182 - mean_absolute_error: 11.9004 - my_metric_fn: 867.9391 - val_loss: 392.4410 - val_mean_absolute_error: 11.8727 - val_my_metric_fn: 866.7669\n",
            "Epoch 12/40\n",
            "4610/4610 [==============================] - 25s 5ms/step - loss: 391.3467 - mean_absolute_error: 11.8970 - my_metric_fn: 867.6323 - val_loss: 392.8485 - val_mean_absolute_error: 11.8636 - val_my_metric_fn: 867.3671\n",
            "Epoch 13/40\n",
            "4610/4610 [==============================] - 25s 5ms/step - loss: 391.1836 - mean_absolute_error: 11.8903 - my_metric_fn: 867.3316 - val_loss: 392.6638 - val_mean_absolute_error: 11.9870 - val_my_metric_fn: 867.4030\n"
          ]
        }
      ]
    },
    {
      "cell_type": "code",
      "metadata": {
        "colab": {
          "base_uri": "https://localhost:8080/"
        },
        "id": "ouxkJVQedbGn",
        "outputId": "2aabccb1-c9f7-426f-def9-1f12842f14af"
      },
      "source": [
        "IPython.display.clear_output()\n",
        "\n",
        "multi_performance['Conv'] = multi_conv_model.evaluate(X_test, y_test, batch_size=256, verbose=1)"
      ],
      "execution_count": 64,
      "outputs": [
        {
          "output_type": "stream",
          "name": "stdout",
          "text": [
            "1281/1281 [==============================] - 5s 4ms/step - loss: 410.6895 - mean_absolute_error: 12.3327 - my_metric_fn: 919.8811\n"
          ]
        }
      ]
    },
    {
      "cell_type": "code",
      "metadata": {
        "id": "9VC7lPLtEZE3",
        "colab": {
          "base_uri": "https://localhost:8080/",
          "height": 404
        },
        "outputId": "bc2e735c-3c05-4774-ebef-06fd855666b2"
      },
      "source": [
        "visualize_loss(history, \"Training and Validation Loss\")"
      ],
      "execution_count": 65,
      "outputs": [
        {
          "output_type": "display_data",
          "data": {
            "image/png": "[encoded data removed]",
            "text/plain": [
              "<Figure size 576x432 with 1 Axes>"
            ]
          },
          "metadata": {
            "needs_background": "light"
          }
        }
      ]
    },
    {
      "cell_type": "code",
      "metadata": {
        "colab": {
          "base_uri": "https://localhost:8080/",
          "height": 497
        },
        "id": "aJM5MbVMGgVG",
        "outputId": "c0107de9-c0b7-4499-9fd1-961c36873d08"
      },
      "source": [
        "plot(multi_conv_model)"
      ],
      "execution_count": 66,
      "outputs": [
        {
          "output_type": "display_data",
          "data": {
            "image/png": "[encoded data removed]",
            "text/plain": [
              "<Figure size 864x576 with 3 Axes>"
            ]
          },
          "metadata": {
            "needs_background": "light"
          }
        }
      ]
    },
    {
      "cell_type": "code",
      "metadata": {
        "id": "jq_MGB5sGf7R"
      },
      "source": [
        ""
      ],
      "execution_count": null,
      "outputs": []
    },
    {
      "cell_type": "code",
      "metadata": {
        "id": "OsIIMJhqGfl_"
      },
      "source": [
        ""
      ],
      "execution_count": null,
      "outputs": []
    },
    {
      "cell_type": "code",
      "metadata": {
        "colab": {
          "base_uri": "https://localhost:8080/"
        },
        "id": "Zmec7yRkEY2L",
        "outputId": "370454a7-22b0-4e7a-841a-3931654ab9a4"
      },
      "source": [
        "multi_lstm_model = tf.keras.Sequential([\n",
        "    tf.keras.layers.Reshape((48, 1), input_shape=(48,)),\n",
        "    tf.keras.layers.LSTM(64, return_sequences=False),\n",
        "    tf.keras.layers.Dense(OUT_STEPS,\n",
        "                          kernel_initializer=tf.initializers.zeros()),\n",
        "    tf.keras.layers.Reshape([OUT_STEPS, 1])\n",
        "])\n",
        "\n",
        "history = compile_and_fit(multi_lstm_model, X_train, y_train)\n"
      ],
      "execution_count": 67,
      "outputs": [
        {
          "output_type": "stream",
          "name": "stdout",
          "text": [
            "Epoch 1/40\n",
            "4610/4610 [==============================] - 74s 16ms/step - loss: 9802.9150 - mean_absolute_error: 72.5672 - my_metric_fn: 9964.0957 - val_loss: 1984.6300 - val_mean_absolute_error: 27.9170 - val_my_metric_fn: 2360.3767\n",
            "Epoch 2/40\n",
            "4610/4610 [==============================] - 71s 15ms/step - loss: 881.1634 - mean_absolute_error: 18.0599 - my_metric_fn: 1337.5327 - val_loss: 464.7242 - val_mean_absolute_error: 13.6969 - val_my_metric_fn: 943.9263\n",
            "Epoch 3/40\n",
            "4610/4610 [==============================] - 71s 15ms/step - loss: 401.6801 - mean_absolute_error: 12.5002 - my_metric_fn: 874.9465 - val_loss: 375.9507 - val_mean_absolute_error: 12.0837 - val_my_metric_fn: 837.5024\n",
            "Epoch 4/40\n",
            "4610/4610 [==============================] - 70s 15ms/step - loss: 365.4086 - mean_absolute_error: 11.6695 - my_metric_fn: 824.6063 - val_loss: 360.3761 - val_mean_absolute_error: 11.6255 - val_my_metric_fn: 812.3679\n",
            "Epoch 5/40\n",
            "4610/4610 [==============================] - 70s 15ms/step - loss: 354.6518 - mean_absolute_error: 11.3560 - my_metric_fn: 806.0878 - val_loss: 351.6228 - val_mean_absolute_error: 11.2617 - val_my_metric_fn: 797.0778\n",
            "Epoch 6/40\n",
            "4610/4610 [==============================] - 70s 15ms/step - loss: 349.8365 - mean_absolute_error: 11.2401 - my_metric_fn: 797.3516 - val_loss: 347.0020 - val_mean_absolute_error: 11.1633 - val_my_metric_fn: 788.3002\n",
            "Epoch 7/40\n",
            "4610/4610 [==============================] - 71s 15ms/step - loss: 346.6756 - mean_absolute_error: 11.1746 - my_metric_fn: 791.5009 - val_loss: 344.9977 - val_mean_absolute_error: 11.1001 - val_my_metric_fn: 784.8692\n",
            "Epoch 8/40\n",
            "4610/4610 [==============================] - 73s 16ms/step - loss: 343.9862 - mean_absolute_error: 11.1204 - my_metric_fn: 786.7588 - val_loss: 342.0015 - val_mean_absolute_error: 11.0911 - val_my_metric_fn: 780.1534\n",
            "Epoch 9/40\n",
            "4610/4610 [==============================] - 74s 16ms/step - loss: 340.6890 - mean_absolute_error: 11.0585 - my_metric_fn: 781.1045 - val_loss: 341.2551 - val_mean_absolute_error: 11.0459 - val_my_metric_fn: 779.2300\n",
            "Epoch 10/40\n",
            "4610/4610 [==============================] - 77s 17ms/step - loss: 337.6963 - mean_absolute_error: 11.0008 - my_metric_fn: 776.1014 - val_loss: 337.0902 - val_mean_absolute_error: 10.9475 - val_my_metric_fn: 771.8884\n",
            "Epoch 11/40\n",
            "4610/4610 [==============================] - 75s 16ms/step - loss: 335.3689 - mean_absolute_error: 10.9544 - my_metric_fn: 772.0421 - val_loss: 335.3998 - val_mean_absolute_error: 10.9762 - val_my_metric_fn: 768.1290\n",
            "Epoch 12/40\n",
            "4610/4610 [==============================] - 75s 16ms/step - loss: 333.7251 - mean_absolute_error: 10.9246 - my_metric_fn: 768.9821 - val_loss: 332.3297 - val_mean_absolute_error: 10.8466 - val_my_metric_fn: 762.2601\n",
            "Epoch 13/40\n",
            "4610/4610 [==============================] - 74s 16ms/step - loss: 332.2103 - mean_absolute_error: 10.8956 - my_metric_fn: 766.2059 - val_loss: 332.3141 - val_mean_absolute_error: 10.8319 - val_my_metric_fn: 762.9736\n",
            "Epoch 14/40\n",
            "4610/4610 [==============================] - 74s 16ms/step - loss: 331.0925 - mean_absolute_error: 10.8725 - my_metric_fn: 764.3147 - val_loss: 331.0582 - val_mean_absolute_error: 10.8370 - val_my_metric_fn: 760.0159\n",
            "Epoch 15/40\n",
            "4610/4610 [==============================] - 75s 16ms/step - loss: 330.3942 - mean_absolute_error: 10.8617 - my_metric_fn: 762.8665 - val_loss: 331.3062 - val_mean_absolute_error: 10.8539 - val_my_metric_fn: 760.9879\n",
            "Epoch 16/40\n",
            "4610/4610 [==============================] - 79s 17ms/step - loss: 329.1029 - mean_absolute_error: 10.8340 - my_metric_fn: 760.6729 - val_loss: 329.7258 - val_mean_absolute_error: 10.8344 - val_my_metric_fn: 757.1033\n",
            "Epoch 17/40\n",
            "4610/4610 [==============================] - 75s 16ms/step - loss: 328.5673 - mean_absolute_error: 10.8258 - my_metric_fn: 759.6483 - val_loss: 328.6875 - val_mean_absolute_error: 10.8084 - val_my_metric_fn: 755.8674\n",
            "Epoch 18/40\n",
            "4610/4610 [==============================] - 75s 16ms/step - loss: 327.6347 - mean_absolute_error: 10.8036 - my_metric_fn: 757.8640 - val_loss: 329.5714 - val_mean_absolute_error: 10.9068 - val_my_metric_fn: 757.0939\n",
            "Epoch 19/40\n",
            "4610/4610 [==============================] - 75s 16ms/step - loss: 327.2184 - mean_absolute_error: 10.7990 - my_metric_fn: 757.2522 - val_loss: 328.8017 - val_mean_absolute_error: 10.8180 - val_my_metric_fn: 756.1680\n"
          ]
        }
      ]
    },
    {
      "cell_type": "code",
      "metadata": {
        "colab": {
          "base_uri": "https://localhost:8080/"
        },
        "id": "OFXT9l5aEedV",
        "outputId": "97b23194-4691-4848-de76-cd36c196015b"
      },
      "source": [
        "IPython.display.clear_output()\n",
        "\n",
        "multi_performance['LSTM'] = multi_lstm_model.evaluate(X_test, y_test, batch_size=256, verbose=1)"
      ],
      "execution_count": 68,
      "outputs": [
        {
          "output_type": "stream",
          "name": "stdout",
          "text": [
            "1281/1281 [==============================] - 9s 7ms/step - loss: 346.1917 - mean_absolute_error: 11.1375 - my_metric_fn: 816.5729\n"
          ]
        }
      ]
    },
    {
      "cell_type": "code",
      "metadata": {
        "id": "kYMZgEDWcjev",
        "colab": {
          "base_uri": "https://localhost:8080/",
          "height": 404
        },
        "outputId": "bacbfd8b-8916-4693-a71c-5f3daac248de"
      },
      "source": [
        "visualize_loss(history, \"Training and Validation Loss\")"
      ],
      "execution_count": 69,
      "outputs": [
        {
          "output_type": "display_data",
          "data": {
            "image/png": "[encoded data removed]",
            "text/plain": [
              "<Figure size 576x432 with 1 Axes>"
            ]
          },
          "metadata": {
            "needs_background": "light"
          }
        }
      ]
    },
    {
      "cell_type": "code",
      "metadata": {
        "id": "qylDTDKAcjYw",
        "colab": {
          "base_uri": "https://localhost:8080/",
          "height": 497
        },
        "outputId": "4d553557-a567-4e53-b9d0-8579d1ad11e4"
      },
      "source": [
        "plot(multi_lstm_model)"
      ],
      "execution_count": 70,
      "outputs": [
        {
          "output_type": "display_data",
          "data": {
            "image/png": "[encoded data removed]",
            "text/plain": [
              "<Figure size 864x576 with 3 Axes>"
            ]
          },
          "metadata": {
            "needs_background": "light"
          }
        }
      ]
    },
    {
      "cell_type": "code",
      "metadata": {
        "id": "QfEvp1StGjdY"
      },
      "source": [
        ""
      ],
      "execution_count": null,
      "outputs": []
    },
    {
      "cell_type": "code",
      "metadata": {
        "id": "QFzVJ6VGGjMd"
      },
      "source": [
        ""
      ],
      "execution_count": null,
      "outputs": []
    },
    {
      "cell_type": "code",
      "metadata": {
        "id": "OIo30FizEeMe"
      },
      "source": [
        "class FeedBack(tf.keras.Model):\n",
        "  def __init__(self, units, out_steps):\n",
        "    super().__init__()\n",
        "    self.out_steps = out_steps\n",
        "    self.units = units\n",
        "    self.lstm_cell = tf.keras.layers.LSTMCell(units)\n",
        "    self.lstm_rnn = tf.keras.layers.RNN(self.lstm_cell, return_state=True)\n",
        "    self.dense = tf.keras.layers.Dense(1)"
      ],
      "execution_count": null,
      "outputs": []
    },
    {
      "cell_type": "code",
      "metadata": {
        "id": "jcwgZ2zZEeHT"
      },
      "source": [
        "feedback_model = FeedBack(units=64, out_steps=OUT_STEPS)"
      ],
      "execution_count": null,
      "outputs": []
    },
    {
      "cell_type": "code",
      "metadata": {
        "id": "6C9p-apJElSJ"
      },
      "source": [
        "def warmup(self, inputs):\n",
        "  x, *state = self.lstm_rnn(inputs)\n",
        "\n",
        "  prediction = self.dense(x)\n",
        "  return prediction, state\n",
        "\n",
        "FeedBack.warmup = warmup"
      ],
      "execution_count": null,
      "outputs": []
    },
    {
      "cell_type": "code",
      "metadata": {
        "id": "jubNyW43ElLt"
      },
      "source": [
        "prediction, state = feedback_model.warmup(multi_window.example[0])\n",
        "prediction.shape"
      ],
      "execution_count": null,
      "outputs": []
    },
    {
      "cell_type": "code",
      "metadata": {
        "id": "jbVpVO7HElGU"
      },
      "source": [
        "def call(self, inputs, training=None):\n",
        "  predictions = []\n",
        "  transformed_inputs = tf.expand_dims(inputs, axis=-1)\n",
        "  prediction, state = self.warmup(transformed_inputs)\n",
        "\n",
        "  predictions.append(prediction)\n",
        "\n",
        "  for n in range(1, self.out_steps):\n",
        "    x = prediction\n",
        "    x, state = self.lstm_cell(x, states=state,\n",
        "                              training=training)\n",
        "    prediction = self.dense(x)\n",
        "    predictions.append(prediction)\n",
        "\n",
        "  predictions = tf.stack(predictions)\n",
        "  predictions = tf.transpose(predictions, [1, 0, 2])\n",
        "  return predictions\n",
        "\n",
        "FeedBack.call = call"
      ],
      "execution_count": null,
      "outputs": []
    },
    {
      "cell_type": "code",
      "metadata": {
        "id": "q0haptLqEuE9"
      },
      "source": [
        "print('Output shape (batch, time, features): ', feedback_model(multi_window.example[0]).shape)"
      ],
      "execution_count": null,
      "outputs": []
    },
    {
      "cell_type": "code",
      "metadata": {
        "colab": {
          "base_uri": "https://localhost:8080/"
        },
        "id": "fORCKtjQEt7X",
        "outputId": "ec27b86d-8baa-4c4c-ea53-b73569d4c1ad"
      },
      "source": [
        "history = compile_and_fit(feedback_model, X_train, y_train)"
      ],
      "execution_count": null,
      "outputs": [
        {
          "output_type": "stream",
          "name": "stdout",
          "text": [
            "Epoch 1/40\n",
            "4630/4630 [==============================] - 559s 120ms/step - loss: 9335.0713 - mean_absolute_error: 69.7229 - my_metric_fn: 9512.9492 - val_loss: 1927.0742 - val_mean_absolute_error: 27.7771 - val_my_metric_fn: 2258.8821\n",
            "Epoch 2/40\n",
            "4630/4630 [==============================] - 549s 118ms/step - loss: 2199.5779 - mean_absolute_error: 29.4748 - my_metric_fn: 1703.5294 - val_loss: 2373.2844 - val_mean_absolute_error: 36.2679 - val_my_metric_fn: 1632.0022\n",
            "Epoch 3/40\n",
            "4630/4630 [==============================] - 540s 117ms/step - loss: 787.8198 - mean_absolute_error: 18.9142 - my_metric_fn: 1081.3306 - val_loss: 410.2829 - val_mean_absolute_error: 12.9777 - val_my_metric_fn: 852.3762\n",
            "Epoch 4/40\n",
            "4630/4630 [==============================] - 547s 118ms/step - loss: 381.4917 - mean_absolute_error: 12.3463 - my_metric_fn: 829.7614 - val_loss: 375.2317 - val_mean_absolute_error: 12.1203 - val_my_metric_fn: 826.7657\n",
            "Epoch 5/40\n",
            "4630/4630 [==============================] - 545s 118ms/step - loss: 359.1263 - mean_absolute_error: 11.7772 - my_metric_fn: 805.5895 - val_loss: 351.0169 - val_mean_absolute_error: 11.6627 - val_my_metric_fn: 793.1171\n",
            "Epoch 6/40\n",
            "4630/4630 [==============================] - 539s 116ms/step - loss: 347.7737 - mean_absolute_error: 11.4666 - my_metric_fn: 789.0331 - val_loss: 342.5843 - val_mean_absolute_error: 11.4314 - val_my_metric_fn: 780.8926\n",
            "Epoch 7/40\n",
            "4630/4630 [==============================] - 548s 118ms/step - loss: 341.7512 - mean_absolute_error: 11.2914 - my_metric_fn: 779.9365 - val_loss: 337.0252 - val_mean_absolute_error: 11.1209 - val_my_metric_fn: 773.0272\n",
            "Epoch 8/40\n",
            "4630/4630 [==============================] - 553s 119ms/step - loss: 338.5125 - mean_absolute_error: 11.1975 - my_metric_fn: 775.1635 - val_loss: 338.5064 - val_mean_absolute_error: 11.0812 - val_my_metric_fn: 774.3939\n",
            "Epoch 9/40\n",
            "4630/4630 [==============================] - 556s 120ms/step - loss: 336.1599 - mean_absolute_error: 11.1313 - my_metric_fn: 771.5352 - val_loss: 334.8143 - val_mean_absolute_error: 11.1889 - val_my_metric_fn: 768.9777\n",
            "Epoch 10/40\n",
            "4630/4630 [==============================] - 551s 119ms/step - loss: 334.2605 - mean_absolute_error: 11.0731 - my_metric_fn: 768.6481 - val_loss: 334.8249 - val_mean_absolute_error: 11.1512 - val_my_metric_fn: 769.1193\n",
            "Epoch 11/40\n",
            "4630/4630 [==============================] - 556s 120ms/step - loss: 332.3198 - mean_absolute_error: 11.0232 - my_metric_fn: 765.6547 - val_loss: 330.1327 - val_mean_absolute_error: 10.9992 - val_my_metric_fn: 762.3039\n",
            "Epoch 12/40\n",
            "4630/4630 [==============================] - 555s 120ms/step - loss: 330.6133 - mean_absolute_error: 10.9807 - my_metric_fn: 763.0241 - val_loss: 339.1747 - val_mean_absolute_error: 11.4463 - val_my_metric_fn: 773.5454\n",
            "Epoch 13/40\n",
            "4630/4630 [==============================] - 552s 119ms/step - loss: 328.9037 - mean_absolute_error: 10.9309 - my_metric_fn: 760.4603 - val_loss: 326.2182 - val_mean_absolute_error: 10.9093 - val_my_metric_fn: 754.6042\n",
            "Epoch 14/40\n",
            "4630/4630 [==============================] - 560s 121ms/step - loss: 328.1087 - mean_absolute_error: 10.9079 - my_metric_fn: 759.3367 - val_loss: 327.2031 - val_mean_absolute_error: 11.0202 - val_my_metric_fn: 757.4527\n",
            "Epoch 15/40\n",
            "4630/4630 [==============================] - 558s 121ms/step - loss: 326.9671 - mean_absolute_error: 10.8808 - my_metric_fn: 757.2475 - val_loss: 329.7103 - val_mean_absolute_error: 10.9687 - val_my_metric_fn: 758.5403\n"
          ]
        }
      ]
    },
    {
      "cell_type": "code",
      "metadata": {
        "colab": {
          "base_uri": "https://localhost:8080/"
        },
        "id": "IliViGz3Etzo",
        "outputId": "388576df-e8f7-4eb4-d0d1-ceb42ac4cb33"
      },
      "source": [
        "IPython.display.clear_output()\n",
        "\n",
        "multi_performance['AR LSTM'] = feedback_model.evaluate(X_test, y_test, batch_size=256, verbose=1)"
      ],
      "execution_count": null,
      "outputs": [
        {
          "output_type": "stream",
          "name": "stdout",
          "text": [
            "1256/1256 [==============================] - 18s 14ms/step - loss: 353.2818 - mean_absolute_error: 11.4398 - my_metric_fn: 806.1940\n"
          ]
        }
      ]
    },
    {
      "cell_type": "code",
      "metadata": {
        "colab": {
          "base_uri": "https://localhost:8080/",
          "height": 497
        },
        "id": "VaqsRti-LIJU",
        "outputId": "559f0c2c-eb10-471e-ceaf-6fc130b4c5e9"
      },
      "source": [
        "plot(feedback_model)"
      ],
      "execution_count": null,
      "outputs": [
        {
          "output_type": "display_data",
          "data": {
            "image/png": "[encoded data removed]",
            "text/plain": [
              "<Figure size 864x576 with 3 Axes>"
            ]
          },
          "metadata": {
            "needs_background": "light"
          }
        }
      ]
    },
    {
      "cell_type": "code",
      "metadata": {
        "id": "GC5W_tzDLH9f"
      },
      "source": [
        ""
      ],
      "execution_count": null,
      "outputs": []
    },
    {
      "cell_type": "code",
      "metadata": {
        "colab": {
          "base_uri": "https://localhost:8080/"
        },
        "id": "jdYD0vwHLHwq",
        "outputId": "9f12acea-269c-4628-f706-56022e5e703a"
      },
      "source": [
        "CONV_WIDTH = 3\n",
        "multi_layer_conv_model = tf.keras.Sequential([\n",
        "    tf.keras.layers.Reshape((48, 1), input_shape=(48,)),  \n",
        "\n",
        "    #\n",
        "    tf.keras.layers.Conv1D(filters=64, kernel_size=3, padding=\"same\"),\n",
        "    tf.keras.layers.BatchNormalization(),\n",
        "    tf.keras.layers.ReLU(),\n",
        "    #\n",
        "    tf.keras.layers.Conv1D(filters=64, kernel_size=3, padding=\"same\"),\n",
        "    tf.keras.layers.BatchNormalization(),\n",
        "    tf.keras.layers.ReLU(),\n",
        "    #\n",
        "    tf.keras.layers.Conv1D(filters=64, kernel_size=3, padding=\"same\"),\n",
        "    tf.keras.layers.BatchNormalization(),\n",
        "    tf.keras.layers.ReLU(),\n",
        "    #\n",
        "    tf.keras.layers.GlobalAveragePooling1D(),\n",
        "\n",
        "    tf.keras.layers.Dense(OUT_STEPS,\n",
        "                          kernel_initializer=tf.initializers.zeros()),\n",
        "    # Shape => [batch, out_steps, features]\n",
        "    tf.keras.layers.Reshape([OUT_STEPS, 1])\n",
        "])\n",
        "\n",
        "history = compile_and_fit(multi_layer_conv_model, X_train, y_train)"
      ],
      "execution_count": null,
      "outputs": [
        {
          "output_type": "stream",
          "name": "stdout",
          "text": [
            "Epoch 1/40\n",
            "4630/4630 [==============================] - 87s 13ms/step - loss: 4257.9834 - mean_absolute_error: 38.3942 - my_metric_fn: 4677.6172 - val_loss: 424.3931 - val_mean_absolute_error: 13.5887 - val_my_metric_fn: 871.3885\n",
            "Epoch 2/40\n",
            "4630/4630 [==============================] - 59s 13ms/step - loss: 414.5928 - mean_absolute_error: 13.5213 - my_metric_fn: 857.7043 - val_loss: 486.2480 - val_mean_absolute_error: 15.9934 - val_my_metric_fn: 935.3744\n",
            "Epoch 3/40\n",
            "4630/4630 [==============================] - 59s 13ms/step - loss: 379.1713 - mean_absolute_error: 12.6142 - my_metric_fn: 822.7966 - val_loss: 370.0151 - val_mean_absolute_error: 12.3432 - val_my_metric_fn: 811.9458\n",
            "Epoch 4/40\n",
            "4630/4630 [==============================] - 59s 13ms/step - loss: 363.0811 - mean_absolute_error: 12.0926 - my_metric_fn: 804.8535 - val_loss: 350.2371 - val_mean_absolute_error: 11.5404 - val_my_metric_fn: 793.0204\n",
            "Epoch 5/40\n",
            "4630/4630 [==============================] - 59s 13ms/step - loss: 355.6957 - mean_absolute_error: 11.8152 - my_metric_fn: 797.4916 - val_loss: 354.6638 - val_mean_absolute_error: 11.8094 - val_my_metric_fn: 799.4484\n",
            "Epoch 6/40\n",
            "4630/4630 [==============================] - 59s 13ms/step - loss: 352.0775 - mean_absolute_error: 11.6755 - my_metric_fn: 793.7924 - val_loss: 355.7272 - val_mean_absolute_error: 11.9294 - val_my_metric_fn: 799.9905\n"
          ]
        }
      ]
    },
    {
      "cell_type": "code",
      "metadata": {
        "colab": {
          "base_uri": "https://localhost:8080/"
        },
        "id": "kqlzIBrSLHm_",
        "outputId": "d75e6a35-0595-4b18-d4af-c418a09a42e9"
      },
      "source": [
        "IPython.display.clear_output()\n",
        "\n",
        "multi_performance['ML-CNN'] = multi_layer_conv_model.evaluate(X_test, y_test, batch_size=256, verbose=1)"
      ],
      "execution_count": null,
      "outputs": [
        {
          "output_type": "stream",
          "name": "stdout",
          "text": [
            "1256/1256 [==============================] - 7s 6ms/step - loss: 376.4406 - mean_absolute_error: 12.3202 - my_metric_fn: 841.4811\n"
          ]
        }
      ]
    },
    {
      "cell_type": "code",
      "metadata": {
        "colab": {
          "base_uri": "https://localhost:8080/",
          "height": 404
        },
        "id": "ol_NuQmJcGD3",
        "outputId": "45b0c610-1407-4cfd-93c0-0cca543127c2"
      },
      "source": [
        "visualize_loss(history, \"Training and Validation Loss\")"
      ],
      "execution_count": null,
      "outputs": [
        {
          "output_type": "display_data",
          "data": {
            "image/png": "[encoded data removed]",
            "text/plain": [
              "<Figure size 576x432 with 1 Axes>"
            ]
          },
          "metadata": {
            "needs_background": "light"
          }
        }
      ]
    },
    {
      "cell_type": "code",
      "metadata": {
        "colab": {
          "base_uri": "https://localhost:8080/",
          "height": 497
        },
        "id": "5Dfjtax7LHaW",
        "outputId": "edd4b80e-d499-4fb5-b66e-627fda24c39b"
      },
      "source": [
        "plot(multi_layer_conv_model)"
      ],
      "execution_count": null,
      "outputs": [
        {
          "output_type": "display_data",
          "data": {
            "image/png": "[encoded data removed]",
            "text/plain": [
              "<Figure size 864x576 with 3 Axes>"
            ]
          },
          "metadata": {
            "needs_background": "light"
          }
        }
      ]
    },
    {
      "cell_type": "code",
      "metadata": {
        "id": "LbIyhI9pPayS"
      },
      "source": [
        ""
      ],
      "execution_count": null,
      "outputs": []
    },
    {
      "cell_type": "code",
      "metadata": {
        "id": "E1C6hzOXcNnX"
      },
      "source": [
        ""
      ],
      "execution_count": null,
      "outputs": []
    },
    {
      "cell_type": "markdown",
      "metadata": {
        "id": "IzP9oFWgULjl"
      },
      "source": [
        "# **Transformer Architecture**\n",
        "\n",
        "This is the implementation based on the transformer architecture from [Attention is all you need](https://arxiv.org/abs/1706.03762)."
      ]
    },
    {
      "cell_type": "code",
      "metadata": {
        "id": "Jjgas0TTPakg"
      },
      "source": [
        "def transformer_encoder(inputs, head_size, num_heads, ff_dim, dropout=0):\n",
        "    # Attention and Normalization\n",
        "    x = tf.keras.layers.MultiHeadAttention(\n",
        "        key_dim=head_size, num_heads=num_heads, dropout=dropout\n",
        "    )(inputs, inputs)\n",
        "    x = tf.keras.layers.Dropout(dropout)(x)\n",
        "    x = tf.keras.layers.LayerNormalization(epsilon=1e-6)(x)\n",
        "    res = x + inputs\n",
        "\n",
        "    # Feed Forward Part\n",
        "    x = tf.keras.layers.Conv1D(filters=ff_dim, kernel_size=1, activation=\"relu\")(res)\n",
        "    x = tf.keras.layers.Dropout(dropout)(x)\n",
        "    x = tf.keras.layers.Conv1D(filters=inputs.shape[-1], kernel_size=1)(x)\n",
        "    x = tf.keras.layers.LayerNormalization(epsilon=1e-6)(x)\n",
        "    return x + res\n"
      ],
      "execution_count": 18,
      "outputs": []
    },
    {
      "cell_type": "code",
      "metadata": {
        "id": "22OFxmZsPaYD"
      },
      "source": [
        "def build_model(\n",
        "    head_size,\n",
        "    num_heads,\n",
        "    ff_dim,\n",
        "    num_transformer_blocks,\n",
        "    mlp_units,\n",
        "    dropout=0,\n",
        "    mlp_dropout=0,\n",
        "):\n",
        "    inputs = tf.keras.Input(shape=(48,))\n",
        "    x = tf.keras.layers.Reshape((48, 1), input_shape=(48,))(inputs)\n",
        "    for _ in range(num_transformer_blocks):\n",
        "        x = transformer_encoder(x, head_size, num_heads, ff_dim, dropout)\n",
        "\n",
        "    x = tf.keras.layers.GlobalAveragePooling1D(data_format=\"channels_first\")(x)\n",
        "    for dim in mlp_units:\n",
        "        x = tf.keras.layers.Dense(dim, activation=\"relu\")(x)\n",
        "        x = tf.keras.layers.Dropout(mlp_dropout)(x)\n",
        "    outputs = tf.keras.layers.Dense(OUT_STEPS, kernel_initializer=tf.initializers.zeros())(x)\n",
        "    return tf.keras.Model(inputs, outputs)"
      ],
      "execution_count": 19,
      "outputs": []
    },
    {
      "cell_type": "code",
      "metadata": {
        "colab": {
          "base_uri": "https://localhost:8080/",
          "height": 769
        },
        "id": "RquPdlGuPaP9",
        "outputId": "97ebe979-3f40-4cb2-c9b3-209dad2b8a2f"
      },
      "source": [
        "transformer_model = build_model(\n",
        "    head_size=256,\n",
        "    num_heads=4,\n",
        "    ff_dim=4,\n",
        "    num_transformer_blocks=4,\n",
        "    mlp_units=[128],\n",
        "    mlp_dropout=0.4,\n",
        "    dropout=0.25,\n",
        ")\n",
        "\n",
        "history = compile_and_fit(transformer_model, X_train, y_train)"
      ],
      "execution_count": 20,
      "outputs": [
        {
          "output_type": "stream",
          "name": "stdout",
          "text": [
            "Epoch 1/40\n",
            "4610/4610 [==============================] - 897s 188ms/step - loss: 1665.9775 - mean_absolute_error: 26.4644 - my_metric_fn: 2210.4126 - val_loss: 553.1617 - val_mean_absolute_error: 15.1766 - val_my_metric_fn: 1096.9696\n",
            "Epoch 2/40\n",
            "4610/4610 [==============================] - 866s 188ms/step - loss: 749.5121 - mean_absolute_error: 19.4321 - my_metric_fn: 1273.6910 - val_loss: 474.5514 - val_mean_absolute_error: 13.7942 - val_my_metric_fn: 991.8787\n",
            "Epoch 3/40\n",
            "4610/4610 [==============================] - 867s 188ms/step - loss: 704.3839 - mean_absolute_error: 18.7865 - my_metric_fn: 1212.4727 - val_loss: 446.9704 - val_mean_absolute_error: 13.2017 - val_my_metric_fn: 956.0736\n",
            "Epoch 4/40\n",
            "4610/4610 [==============================] - 866s 188ms/step - loss: 685.0057 - mean_absolute_error: 18.4807 - my_metric_fn: 1185.1971 - val_loss: 441.8456 - val_mean_absolute_error: 13.4825 - val_my_metric_fn: 943.0652\n",
            "Epoch 5/40\n",
            "4610/4610 [==============================] - 867s 188ms/step - loss: 668.2124 - mean_absolute_error: 18.2198 - my_metric_fn: 1162.5190 - val_loss: 426.9387 - val_mean_absolute_error: 13.0094 - val_my_metric_fn: 921.9703\n",
            "Epoch 6/40\n",
            "4610/4610 [==============================] - 868s 188ms/step - loss: 654.6937 - mean_absolute_error: 17.9875 - my_metric_fn: 1143.3700 - val_loss: 420.9201 - val_mean_absolute_error: 12.6410 - val_my_metric_fn: 914.7444\n",
            "Epoch 7/40\n",
            "4610/4610 [==============================] - 864s 187ms/step - loss: 645.4229 - mean_absolute_error: 17.8204 - my_metric_fn: 1132.3422 - val_loss: 424.7721 - val_mean_absolute_error: 12.7721 - val_my_metric_fn: 915.8323\n",
            "Epoch 8/40\n",
            "4610/4610 [==============================] - 863s 187ms/step - loss: 635.6791 - mean_absolute_error: 17.6489 - my_metric_fn: 1119.2091 - val_loss: 412.2442 - val_mean_absolute_error: 12.4847 - val_my_metric_fn: 902.3272\n",
            "Epoch 9/40\n",
            "4610/4610 [==============================] - 869s 189ms/step - loss: 625.7471 - mean_absolute_error: 17.4549 - my_metric_fn: 1106.2993 - val_loss: 413.9971 - val_mean_absolute_error: 12.5338 - val_my_metric_fn: 900.5092\n",
            "Epoch 10/40\n",
            "4610/4610 [==============================] - 871s 189ms/step - loss: 619.6309 - mean_absolute_error: 17.3286 - my_metric_fn: 1100.2910 - val_loss: 406.9914 - val_mean_absolute_error: 12.3476 - val_my_metric_fn: 892.8182\n",
            "Epoch 11/40\n",
            "4610/4610 [==============================] - 863s 187ms/step - loss: 609.5927 - mean_absolute_error: 17.1522 - my_metric_fn: 1088.2716 - val_loss: 434.7844 - val_mean_absolute_error: 13.1520 - val_my_metric_fn: 922.0562\n",
            "Epoch 12/40\n",
            " 177/4610 [>.............................] - ETA: 12:36 - loss: 600.4833 - mean_absolute_error: 16.9904 - my_metric_fn: 1066.2220"
          ]
        },
        {
          "output_type": "error",
          "ename": "KeyboardInterrupt",
          "evalue": "ignored",
          "traceback": [
            "\u001b[0;31m---------------------------------------------------------------------------\u001b[0m",
            "\u001b[0;31mKeyboardInterrupt\u001b[0m                         Traceback (most recent call last)",
            "\u001b[0;32m<ipython-input-20-3ccfcf01585c>\u001b[0m in \u001b[0;36m<module>\u001b[0;34m()\u001b[0m\n\u001b[1;32m      9\u001b[0m )\n\u001b[1;32m     10\u001b[0m \u001b[0;34m\u001b[0m\u001b[0m\n\u001b[0;32m---> 11\u001b[0;31m \u001b[0mhistory\u001b[0m \u001b[0;34m=\u001b[0m \u001b[0mcompile_and_fit\u001b[0m\u001b[0;34m(\u001b[0m\u001b[0mtransformer_model\u001b[0m\u001b[0;34m,\u001b[0m \u001b[0mX_train\u001b[0m\u001b[0;34m,\u001b[0m \u001b[0my_train\u001b[0m\u001b[0;34m)\u001b[0m\u001b[0;34m\u001b[0m\u001b[0;34m\u001b[0m\u001b[0m\n\u001b[0m",
            "\u001b[0;32m<ipython-input-14-86f4d6bcad76>\u001b[0m in \u001b[0;36mcompile_and_fit\u001b[0;34m(model, X_train, y_train, patience)\u001b[0m\n\u001b[1;32m     17\u001b[0m   history = model.fit(X_train, y_train, epochs=MAX_EPOCHS,\n\u001b[1;32m     18\u001b[0m                       \u001b[0mbatch_size\u001b[0m\u001b[0;34m=\u001b[0m\u001b[0;36m256\u001b[0m\u001b[0;34m,\u001b[0m \u001b[0mverbose\u001b[0m\u001b[0;34m=\u001b[0m\u001b[0;36m1\u001b[0m\u001b[0;34m,\u001b[0m \u001b[0mvalidation_split\u001b[0m\u001b[0;34m=\u001b[0m\u001b[0;36m0.2\u001b[0m\u001b[0;34m,\u001b[0m\u001b[0;34m\u001b[0m\u001b[0;34m\u001b[0m\u001b[0m\n\u001b[0;32m---> 19\u001b[0;31m                       callbacks=[early_stopping])\n\u001b[0m\u001b[1;32m     20\u001b[0m   \u001b[0;32mreturn\u001b[0m \u001b[0mhistory\u001b[0m\u001b[0;34m\u001b[0m\u001b[0;34m\u001b[0m\u001b[0m\n",
            "\u001b[0;32m/usr/local/lib/python3.7/dist-packages/keras/engine/training.py\u001b[0m in \u001b[0;36mfit\u001b[0;34m(self, x, y, batch_size, epochs, verbose, callbacks, validation_split, validation_data, shuffle, class_weight, sample_weight, initial_epoch, steps_per_epoch, validation_steps, validation_batch_size, validation_freq, max_queue_size, workers, use_multiprocessing)\u001b[0m\n\u001b[1;32m   1182\u001b[0m                 _r=1):\n\u001b[1;32m   1183\u001b[0m               \u001b[0mcallbacks\u001b[0m\u001b[0;34m.\u001b[0m\u001b[0mon_train_batch_begin\u001b[0m\u001b[0;34m(\u001b[0m\u001b[0mstep\u001b[0m\u001b[0;34m)\u001b[0m\u001b[0;34m\u001b[0m\u001b[0;34m\u001b[0m\u001b[0m\n\u001b[0;32m-> 1184\u001b[0;31m               \u001b[0mtmp_logs\u001b[0m \u001b[0;34m=\u001b[0m \u001b[0mself\u001b[0m\u001b[0;34m.\u001b[0m\u001b[0mtrain_function\u001b[0m\u001b[0;34m(\u001b[0m\u001b[0miterator\u001b[0m\u001b[0;34m)\u001b[0m\u001b[0;34m\u001b[0m\u001b[0;34m\u001b[0m\u001b[0m\n\u001b[0m\u001b[1;32m   1185\u001b[0m               \u001b[0;32mif\u001b[0m \u001b[0mdata_handler\u001b[0m\u001b[0;34m.\u001b[0m\u001b[0mshould_sync\u001b[0m\u001b[0;34m:\u001b[0m\u001b[0;34m\u001b[0m\u001b[0;34m\u001b[0m\u001b[0m\n\u001b[1;32m   1186\u001b[0m                 \u001b[0mcontext\u001b[0m\u001b[0;34m.\u001b[0m\u001b[0masync_wait\u001b[0m\u001b[0;34m(\u001b[0m\u001b[0;34m)\u001b[0m\u001b[0;34m\u001b[0m\u001b[0;34m\u001b[0m\u001b[0m\n",
            "\u001b[0;32m/usr/local/lib/python3.7/dist-packages/tensorflow/python/eager/def_function.py\u001b[0m in \u001b[0;36m__call__\u001b[0;34m(self, *args, **kwds)\u001b[0m\n\u001b[1;32m    883\u001b[0m \u001b[0;34m\u001b[0m\u001b[0m\n\u001b[1;32m    884\u001b[0m       \u001b[0;32mwith\u001b[0m \u001b[0mOptionalXlaContext\u001b[0m\u001b[0;34m(\u001b[0m\u001b[0mself\u001b[0m\u001b[0;34m.\u001b[0m\u001b[0m_jit_compile\u001b[0m\u001b[0;34m)\u001b[0m\u001b[0;34m:\u001b[0m\u001b[0;34m\u001b[0m\u001b[0;34m\u001b[0m\u001b[0m\n\u001b[0;32m--> 885\u001b[0;31m         \u001b[0mresult\u001b[0m \u001b[0;34m=\u001b[0m \u001b[0mself\u001b[0m\u001b[0;34m.\u001b[0m\u001b[0m_call\u001b[0m\u001b[0;34m(\u001b[0m\u001b[0;34m*\u001b[0m\u001b[0margs\u001b[0m\u001b[0;34m,\u001b[0m \u001b[0;34m**\u001b[0m\u001b[0mkwds\u001b[0m\u001b[0;34m)\u001b[0m\u001b[0;34m\u001b[0m\u001b[0;34m\u001b[0m\u001b[0m\n\u001b[0m\u001b[1;32m    886\u001b[0m \u001b[0;34m\u001b[0m\u001b[0m\n\u001b[1;32m    887\u001b[0m       \u001b[0mnew_tracing_count\u001b[0m \u001b[0;34m=\u001b[0m \u001b[0mself\u001b[0m\u001b[0;34m.\u001b[0m\u001b[0mexperimental_get_tracing_count\u001b[0m\u001b[0;34m(\u001b[0m\u001b[0;34m)\u001b[0m\u001b[0;34m\u001b[0m\u001b[0;34m\u001b[0m\u001b[0m\n",
            "\u001b[0;32m/usr/local/lib/python3.7/dist-packages/tensorflow/python/eager/def_function.py\u001b[0m in \u001b[0;36m_call\u001b[0;34m(self, *args, **kwds)\u001b[0m\n\u001b[1;32m    915\u001b[0m       \u001b[0;31m# In this case we have created variables on the first call, so we run the\u001b[0m\u001b[0;34m\u001b[0m\u001b[0;34m\u001b[0m\u001b[0;34m\u001b[0m\u001b[0m\n\u001b[1;32m    916\u001b[0m       \u001b[0;31m# defunned version which is guaranteed to never create variables.\u001b[0m\u001b[0;34m\u001b[0m\u001b[0;34m\u001b[0m\u001b[0;34m\u001b[0m\u001b[0m\n\u001b[0;32m--> 917\u001b[0;31m       \u001b[0;32mreturn\u001b[0m \u001b[0mself\u001b[0m\u001b[0;34m.\u001b[0m\u001b[0m_stateless_fn\u001b[0m\u001b[0;34m(\u001b[0m\u001b[0;34m*\u001b[0m\u001b[0margs\u001b[0m\u001b[0;34m,\u001b[0m \u001b[0;34m**\u001b[0m\u001b[0mkwds\u001b[0m\u001b[0;34m)\u001b[0m  \u001b[0;31m# pylint: disable=not-callable\u001b[0m\u001b[0;34m\u001b[0m\u001b[0;34m\u001b[0m\u001b[0m\n\u001b[0m\u001b[1;32m    918\u001b[0m     \u001b[0;32melif\u001b[0m \u001b[0mself\u001b[0m\u001b[0;34m.\u001b[0m\u001b[0m_stateful_fn\u001b[0m \u001b[0;32mis\u001b[0m \u001b[0;32mnot\u001b[0m \u001b[0;32mNone\u001b[0m\u001b[0;34m:\u001b[0m\u001b[0;34m\u001b[0m\u001b[0;34m\u001b[0m\u001b[0m\n\u001b[1;32m    919\u001b[0m       \u001b[0;31m# Release the lock early so that multiple threads can perform the call\u001b[0m\u001b[0;34m\u001b[0m\u001b[0;34m\u001b[0m\u001b[0;34m\u001b[0m\u001b[0m\n",
            "\u001b[0;32m/usr/local/lib/python3.7/dist-packages/tensorflow/python/eager/function.py\u001b[0m in \u001b[0;36m__call__\u001b[0;34m(self, *args, **kwargs)\u001b[0m\n\u001b[1;32m   3038\u001b[0m        filtered_flat_args) = self._maybe_define_function(args, kwargs)\n\u001b[1;32m   3039\u001b[0m     return graph_function._call_flat(\n\u001b[0;32m-> 3040\u001b[0;31m         filtered_flat_args, captured_inputs=graph_function.captured_inputs)  # pylint: disable=protected-access\n\u001b[0m\u001b[1;32m   3041\u001b[0m \u001b[0;34m\u001b[0m\u001b[0m\n\u001b[1;32m   3042\u001b[0m   \u001b[0;34m@\u001b[0m\u001b[0mproperty\u001b[0m\u001b[0;34m\u001b[0m\u001b[0;34m\u001b[0m\u001b[0m\n",
            "\u001b[0;32m/usr/local/lib/python3.7/dist-packages/tensorflow/python/eager/function.py\u001b[0m in \u001b[0;36m_call_flat\u001b[0;34m(self, args, captured_inputs, cancellation_manager)\u001b[0m\n\u001b[1;32m   1962\u001b[0m       \u001b[0;31m# No tape is watching; skip to running the function.\u001b[0m\u001b[0;34m\u001b[0m\u001b[0;34m\u001b[0m\u001b[0;34m\u001b[0m\u001b[0m\n\u001b[1;32m   1963\u001b[0m       return self._build_call_outputs(self._inference_function.call(\n\u001b[0;32m-> 1964\u001b[0;31m           ctx, args, cancellation_manager=cancellation_manager))\n\u001b[0m\u001b[1;32m   1965\u001b[0m     forward_backward = self._select_forward_and_backward_functions(\n\u001b[1;32m   1966\u001b[0m         \u001b[0margs\u001b[0m\u001b[0;34m,\u001b[0m\u001b[0;34m\u001b[0m\u001b[0;34m\u001b[0m\u001b[0m\n",
            "\u001b[0;32m/usr/local/lib/python3.7/dist-packages/tensorflow/python/eager/function.py\u001b[0m in \u001b[0;36mcall\u001b[0;34m(self, ctx, args, cancellation_manager)\u001b[0m\n\u001b[1;32m    594\u001b[0m               \u001b[0minputs\u001b[0m\u001b[0;34m=\u001b[0m\u001b[0margs\u001b[0m\u001b[0;34m,\u001b[0m\u001b[0;34m\u001b[0m\u001b[0;34m\u001b[0m\u001b[0m\n\u001b[1;32m    595\u001b[0m               \u001b[0mattrs\u001b[0m\u001b[0;34m=\u001b[0m\u001b[0mattrs\u001b[0m\u001b[0;34m,\u001b[0m\u001b[0;34m\u001b[0m\u001b[0;34m\u001b[0m\u001b[0m\n\u001b[0;32m--> 596\u001b[0;31m               ctx=ctx)\n\u001b[0m\u001b[1;32m    597\u001b[0m         \u001b[0;32melse\u001b[0m\u001b[0;34m:\u001b[0m\u001b[0;34m\u001b[0m\u001b[0;34m\u001b[0m\u001b[0m\n\u001b[1;32m    598\u001b[0m           outputs = execute.execute_with_cancellation(\n",
            "\u001b[0;32m/usr/local/lib/python3.7/dist-packages/tensorflow/python/eager/execute.py\u001b[0m in \u001b[0;36mquick_execute\u001b[0;34m(op_name, num_outputs, inputs, attrs, ctx, name)\u001b[0m\n\u001b[1;32m     58\u001b[0m     \u001b[0mctx\u001b[0m\u001b[0;34m.\u001b[0m\u001b[0mensure_initialized\u001b[0m\u001b[0;34m(\u001b[0m\u001b[0;34m)\u001b[0m\u001b[0;34m\u001b[0m\u001b[0;34m\u001b[0m\u001b[0m\n\u001b[1;32m     59\u001b[0m     tensors = pywrap_tfe.TFE_Py_Execute(ctx._handle, device_name, op_name,\n\u001b[0;32m---> 60\u001b[0;31m                                         inputs, attrs, num_outputs)\n\u001b[0m\u001b[1;32m     61\u001b[0m   \u001b[0;32mexcept\u001b[0m \u001b[0mcore\u001b[0m\u001b[0;34m.\u001b[0m\u001b[0m_NotOkStatusException\u001b[0m \u001b[0;32mas\u001b[0m \u001b[0me\u001b[0m\u001b[0;34m:\u001b[0m\u001b[0;34m\u001b[0m\u001b[0;34m\u001b[0m\u001b[0m\n\u001b[1;32m     62\u001b[0m     \u001b[0;32mif\u001b[0m \u001b[0mname\u001b[0m \u001b[0;32mis\u001b[0m \u001b[0;32mnot\u001b[0m \u001b[0;32mNone\u001b[0m\u001b[0;34m:\u001b[0m\u001b[0;34m\u001b[0m\u001b[0;34m\u001b[0m\u001b[0m\n",
            "\u001b[0;31mKeyboardInterrupt\u001b[0m: "
          ]
        }
      ]
    },
    {
      "cell_type": "code",
      "metadata": {
        "id": "iHjSYZbQabeI",
        "colab": {
          "base_uri": "https://localhost:8080/"
        },
        "outputId": "ac902a07-9ce2-4d99-d8b3-69d871a68b86"
      },
      "source": [
        "IPython.display.clear_output()\n",
        "\n",
        "#multi_val_performance['LSTM'] = transformer_model.evaluate(multi_window.val)\n",
        "multi_performance['Transformer'] = transformer_model.evaluate(X_test, y_test, batch_size=256, verbose=1)\n",
        "#multi_window.plot(transformer_model)"
      ],
      "execution_count": 21,
      "outputs": [
        {
          "output_type": "stream",
          "name": "stdout",
          "text": [
            "1281/1281 [==============================] - 91s 71ms/step - loss: 430.6354 - mean_absolute_error: 12.6888 - my_metric_fn: 958.5780\n"
          ]
        }
      ]
    },
    {
      "cell_type": "code",
      "metadata": {
        "id": "g2L-1rgzPaG2",
        "colab": {
          "base_uri": "https://localhost:8080/",
          "height": 497
        },
        "outputId": "f88df87d-554c-45e7-f249-81eabc09e9c8"
      },
      "source": [
        "plot(transformer_model)"
      ],
      "execution_count": 23,
      "outputs": [
        {
          "output_type": "display_data",
          "data": {
            "image/png": "[encoded data removed]",
            "text/plain": [
              "<Figure size 864x576 with 3 Axes>"
            ]
          },
          "metadata": {
            "needs_background": "light"
          }
        }
      ]
    },
    {
      "cell_type": "code",
      "metadata": {
        "id": "uxYW2JMRamnU"
      },
      "source": [
        ""
      ],
      "execution_count": null,
      "outputs": []
    },
    {
      "cell_type": "code",
      "metadata": {
        "id": "1ooUVB9lamaG"
      },
      "source": [
        ""
      ],
      "execution_count": null,
      "outputs": []
    },
    {
      "cell_type": "code",
      "metadata": {
        "id": "6ndXga7iQ6-k"
      },
      "source": [
        ""
      ],
      "execution_count": null,
      "outputs": []
    },
    {
      "cell_type": "markdown",
      "metadata": {
        "id": "K9dCO7lZRANN"
      },
      "source": [
        "# **Using Encode-Decoder Architecture**\n",
        "\n",
        "The intuition to use Encoder-decoder architecture for time series forcasting was similar to the use of seqence-to-sequence model for tasks like machine translation. Where the encoder can essentionally memorise or learn an abstract resprentation of the input sequence and decoder being capable of using this representation to generate the output sequence.\n",
        "\n",
        "In this scenario, the encoder can memorise the past data and decoder can use this abstraction to predict future data."
      ]
    },
    {
      "cell_type": "code",
      "metadata": {
        "id": "Jyu-_hz50Kbl"
      },
      "source": [
        "# returns train, inference_encoder and inference_decoder models\n",
        "def define_models(n_input, n_output, n_units):\n",
        "\t# define training encoder\n",
        "\tencoder_inputs = tf.keras.layers.Input(shape=(None, n_input))\n",
        "\tencoder = tf.keras.layers.LSTM(n_units, return_state=True)\n",
        "\tencoder_outputs, state_h, state_c = encoder(encoder_inputs)\n",
        "\tencoder_states = [state_h, state_c]\n",
        "\t# define training decoder\n",
        "\tdecoder_inputs = tf.keras.layers.Input(shape=(None, n_output))\n",
        "\tdecoder_lstm = tf.keras.layers.LSTM(n_units, return_sequences=True, return_state=True)\n",
        "\tdecoder_outputs, _, _ = decoder_lstm(decoder_inputs, initial_state=encoder_states)\n",
        "\tdecoder_dense = tf.keras.layers.Dense(n_output, kernel_initializer=tf.initializers.zeros())\n",
        "\tdecoder_outputs = decoder_dense(decoder_outputs)\n",
        "\tmodel = tf.keras.Model([encoder_inputs, decoder_inputs], decoder_outputs)\n",
        "\t# define inference encoder\n",
        "\tencoder_model = tf.keras.Model(encoder_inputs, encoder_states)\n",
        "\t# define inference decoder\n",
        "\tdecoder_state_input_h = tf.keras.layers.Input(shape=(n_units,))\n",
        "\tdecoder_state_input_c = tf.keras.layers.Input(shape=(n_units,))\n",
        "\tdecoder_states_inputs = [decoder_state_input_h, decoder_state_input_c]\n",
        "\tdecoder_outputs, state_h, state_c = decoder_lstm(decoder_inputs, initial_state=decoder_states_inputs)\n",
        "\tdecoder_states = [state_h, state_c]\n",
        "\tdecoder_outputs = decoder_dense(decoder_outputs)\n",
        "\tdecoder_model = tf.keras.Model([decoder_inputs] + decoder_states_inputs, [decoder_outputs] + decoder_states)\n",
        "\t# return all models\n",
        "\treturn model, encoder_model, decoder_model"
      ],
      "execution_count": 31,
      "outputs": []
    },
    {
      "cell_type": "code",
      "metadata": {
        "id": "c3tyLQZwalmV",
        "colab": {
          "base_uri": "https://localhost:8080/"
        },
        "outputId": "16df7269-e6d5-43c4-f347-1f773e8ea0d7"
      },
      "source": [
        "\n",
        "# configure problem\n",
        "n_features = 1\n",
        "n_steps_in = 48\n",
        "n_steps_out = 7\n",
        "# define model\n",
        "model, infenc, infdec = define_models(n_features, n_features, 128)\n",
        "\n",
        "early_stopping = tf.keras.callbacks.EarlyStopping(monitor='val_loss',\n",
        "                                                    patience=2,\n",
        "                                                    mode='min')\n",
        "\n",
        "model.compile(loss=tf.losses.MeanSquaredError(),\n",
        "                optimizer=tf.optimizers.Adam(),\n",
        "                metrics=[tf.metrics.MeanAbsoluteError(), my_metric_fn])\n",
        "\n",
        "arr = y_train.iloc[:,:-1].to_numpy()\n",
        "y_shift = np.concatenate((np.zeros((arr.shape[0],1), dtype=int), arr), axis=1)\n",
        "\n",
        "history = model.fit([X_train, y_shift], y_train, epochs=20,\n",
        "                      batch_size=512, verbose=1, validation_split=0.2,\n",
        "                      callbacks=[early_stopping])"
      ],
      "execution_count": 32,
      "outputs": [
        {
          "output_type": "stream",
          "name": "stdout",
          "text": [
            "Epoch 1/20\n",
            "2305/2305 [==============================] - 75s 31ms/step - loss: 10106.8232 - mean_absolute_error: 75.9101 - my_metric_fn: 10189.2402 - val_loss: 2793.9905 - val_mean_absolute_error: 29.4179 - val_my_metric_fn: 2833.3992\n",
            "Epoch 2/20\n",
            "2305/2305 [==============================] - 69s 30ms/step - loss: 957.1910 - mean_absolute_error: 13.0859 - my_metric_fn: 980.8641 - val_loss: 253.5477 - val_mean_absolute_error: 5.8759 - val_my_metric_fn: 267.7699\n",
            "Epoch 3/20\n",
            "2305/2305 [==============================] - 68s 30ms/step - loss: 121.6184 - mean_absolute_error: 4.0703 - my_metric_fn: 130.2146 - val_loss: 54.4591 - val_mean_absolute_error: 2.9757 - val_my_metric_fn: 59.4768\n",
            "Epoch 4/20\n",
            "2305/2305 [==============================] - 70s 30ms/step - loss: 37.8012 - mean_absolute_error: 2.6419 - my_metric_fn: 40.5081 - val_loss: 28.5927 - val_mean_absolute_error: 2.4212 - val_my_metric_fn: 30.0927\n",
            "Epoch 5/20\n",
            "2305/2305 [==============================] - 70s 30ms/step - loss: 26.5307 - mean_absolute_error: 2.3314 - my_metric_fn: 27.2126 - val_loss: 25.3325 - val_mean_absolute_error: 2.3455 - val_my_metric_fn: 25.9801\n",
            "Epoch 6/20\n",
            "2305/2305 [==============================] - 69s 30ms/step - loss: 24.8613 - mean_absolute_error: 2.2550 - my_metric_fn: 25.0520 - val_loss: 24.1852 - val_mean_absolute_error: 2.2099 - val_my_metric_fn: 24.8401\n",
            "Epoch 7/20\n",
            "2305/2305 [==============================] - 69s 30ms/step - loss: 24.4605 - mean_absolute_error: 2.2282 - my_metric_fn: 24.5756 - val_loss: 24.0637 - val_mean_absolute_error: 2.2232 - val_my_metric_fn: 24.4496\n",
            "Epoch 8/20\n",
            "2305/2305 [==============================] - 68s 30ms/step - loss: 24.1903 - mean_absolute_error: 2.2079 - my_metric_fn: 24.2782 - val_loss: 23.4882 - val_mean_absolute_error: 2.1526 - val_my_metric_fn: 24.0734\n",
            "Epoch 9/20\n",
            "2305/2305 [==============================] - 69s 30ms/step - loss: 23.7915 - mean_absolute_error: 2.1805 - my_metric_fn: 23.9081 - val_loss: 23.6901 - val_mean_absolute_error: 2.2058 - val_my_metric_fn: 23.9167\n",
            "Epoch 10/20\n",
            "2305/2305 [==============================] - 69s 30ms/step - loss: 23.5708 - mean_absolute_error: 2.1625 - my_metric_fn: 23.6745 - val_loss: 23.2455 - val_mean_absolute_error: 2.1483 - val_my_metric_fn: 23.7309\n",
            "Epoch 11/20\n",
            "2305/2305 [==============================] - 69s 30ms/step - loss: 23.4389 - mean_absolute_error: 2.1550 - my_metric_fn: 23.5478 - val_loss: 23.2582 - val_mean_absolute_error: 2.1614 - val_my_metric_fn: 23.7222\n",
            "Epoch 12/20\n",
            "2305/2305 [==============================] - 69s 30ms/step - loss: 23.3338 - mean_absolute_error: 2.1464 - my_metric_fn: 23.4425 - val_loss: 22.9461 - val_mean_absolute_error: 2.1020 - val_my_metric_fn: 23.4839\n",
            "Epoch 13/20\n",
            "2305/2305 [==============================] - 69s 30ms/step - loss: 23.2578 - mean_absolute_error: 2.1408 - my_metric_fn: 23.3837 - val_loss: 22.9478 - val_mean_absolute_error: 2.1152 - val_my_metric_fn: 23.5999\n",
            "Epoch 14/20\n",
            "2305/2305 [==============================] - 69s 30ms/step - loss: 23.1655 - mean_absolute_error: 2.1357 - my_metric_fn: 23.2909 - val_loss: 22.9481 - val_mean_absolute_error: 2.1257 - val_my_metric_fn: 23.3390\n"
          ]
        }
      ]
    },
    {
      "cell_type": "code",
      "metadata": {
        "id": "zhT0VRCc9tYw"
      },
      "source": [
        "# encode\n",
        "state = infenc.predict(X_test)"
      ],
      "execution_count": 39,
      "outputs": []
    },
    {
      "cell_type": "code",
      "metadata": {
        "id": "WcXm5OO4AzJ2"
      },
      "source": [
        "# start of sequence input\n",
        "target_seq = np.zeros((X_test.shape[0], 1, 1))\n",
        "# collect predictions\n",
        "output = list()\n",
        "for t in range(7):\n",
        "  # predict next char\n",
        "  yhat, h, c = infdec.predict([target_seq] + state, batch_size=512)\n",
        "  # store prediction\n",
        "  output.append(yhat)\n",
        "  # update state\n",
        "  state = [h, c]\n",
        "  # update target sequence\n",
        "  target_seq = yhat\n",
        "y_pred = np.concatenate(output, axis=1)"
      ],
      "execution_count": 40,
      "outputs": []
    },
    {
      "cell_type": "code",
      "metadata": {
        "id": "AMtzZDF3CrEx"
      },
      "source": [
        "x = np.squeeze(y_pred, axis=-1)"
      ],
      "execution_count": 49,
      "outputs": []
    },
    {
      "cell_type": "code",
      "metadata": {
        "id": "ZRw59vfeByJy"
      },
      "source": [
        "from sklearn.metrics import mean_squared_error\n",
        "mse = mean_squared_error(y_test, x)"
      ],
      "execution_count": 50,
      "outputs": []
    },
    {
      "cell_type": "code",
      "metadata": {
        "colab": {
          "base_uri": "https://localhost:8080/"
        },
        "id": "_xMWsykBBx6T",
        "outputId": "ebb9cf37-2c33-4fe8-a859-2b843f088a3e"
      },
      "source": [
        "mse"
      ],
      "execution_count": 51,
      "outputs": [
        {
          "output_type": "execute_result",
          "data": {
            "text/plain": [
              "354.00159476136747"
            ]
          },
          "metadata": {},
          "execution_count": 51
        }
      ]
    },
    {
      "cell_type": "code",
      "metadata": {
        "colab": {
          "base_uri": "https://localhost:8080/"
        },
        "id": "ygfez5Jcz8BX",
        "outputId": "6b5975bb-c20e-4880-ace0-fb83c6df1912"
      },
      "source": [
        "mse_last = mean_squared_error(y_test.to_numpy()[:,-1], x[:,-1])\n",
        "\n",
        "mse_last"
      ],
      "execution_count": 52,
      "outputs": [
        {
          "output_type": "execute_result",
          "data": {
            "text/plain": [
              "844.8767278122144"
            ]
          },
          "metadata": {},
          "execution_count": 52
        }
      ]
    },
    {
      "cell_type": "code",
      "metadata": {
        "colab": {
          "base_uri": "https://localhost:8080/",
          "height": 514
        },
        "id": "UjKVi3ebDrnT",
        "outputId": "ba689705-587a-4a72-d911-629a695405bb"
      },
      "source": [
        "inputs = X_test\n",
        "inputs_to_display = scaling.inverse_transform(X_test)\n",
        "labels = y_test\n",
        "#print(y_test)\n",
        "plt.figure(figsize=(12, 8))\n",
        "max_n = min(3, len(inputs))\n",
        "total_window_size = 55\n",
        "label_width = 7\n",
        "input_slice = slice(0, 48)\n",
        "input_indices = np.arange(total_window_size)[input_slice]\n",
        "\n",
        "labels_slice = slice(48, None)\n",
        "label_indices = np.arange(total_window_size)[labels_slice]\n",
        "x=100\n",
        "for n in range(max_n):\n",
        "  plt.subplot(max_n, 1, n+1)\n",
        "  plt.ylabel('Sensor Reading')\n",
        "  #print(inputs_to_display[n, :])\n",
        "  plt.plot(input_indices, inputs_to_display[n+x, :],\n",
        "            label='Inputs', marker='.', zorder=-10)\n",
        "\n",
        "  #print(n)\n",
        "  #print(y_test.iloc[n, :])\n",
        "  plt.scatter(label_indices, labels.iloc[n+x, :].tolist(),\n",
        "              edgecolors='k', label='Labels', c='#2ca02c', s=64)\n",
        "  \n",
        "  plt.scatter(label_indices, y_pred[n+x, :],\n",
        "              marker='X', edgecolors='k', label='Predictions',\n",
        "              c='#ff7f0e', s=64)\n",
        "\n",
        "  if n == 0:\n",
        "    plt.legend()\n",
        "\n",
        "  x=x+100\n",
        "\n",
        "plt.xlabel('Time [h]')"
      ],
      "execution_count": 54,
      "outputs": [
        {
          "output_type": "execute_result",
          "data": {
            "text/plain": [
              "Text(0.5, 0, 'Time [h]')"
            ]
          },
          "metadata": {},
          "execution_count": 54
        },
        {
          "output_type": "display_data",
          "data": {
            "image/png": "[encoded data removed]",
            "text/plain": [
              "<Figure size 864x576 with 3 Axes>"
            ]
          },
          "metadata": {
            "needs_background": "light"
          }
        }
      ]
    },
    {
      "cell_type": "code",
      "metadata": {
        "id": "gsPzBIvOFZaU"
      },
      "source": [
        ""
      ],
      "execution_count": null,
      "outputs": []
    }
  ]
}